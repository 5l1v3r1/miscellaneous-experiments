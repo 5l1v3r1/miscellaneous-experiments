{
 "cells": [
  {
   "cell_type": "markdown",
   "metadata": {},
   "source": [
    "# Download Fashion MNIST Data"
   ]
  },
  {
   "cell_type": "code",
   "execution_count": 1,
   "metadata": {
    "collapsed": true
   },
   "outputs": [],
   "source": [
    "!mkdir -p ./data/fashion"
   ]
  },
  {
   "cell_type": "code",
   "execution_count": 2,
   "metadata": {},
   "outputs": [
    {
     "name": "stdout",
     "output_type": "stream",
     "text": [
      "  % Total    % Received % Xferd  Average Speed   Time    Time     Time  Current\n",
      "                                 Dload  Upload   Total   Spent    Left  Speed\n",
      "100 29515  100 29515    0     0   137k      0 --:--:-- --:--:-- --:--:--  137k\n",
      "  % Total    % Received % Xferd  Average Speed   Time    Time     Time  Current\n",
      "                                 Dload  Upload   Total   Spent    Left  Speed\n",
      "100 4318k  100 4318k    0     0  5852k      0 --:--:-- --:--:-- --:--:-- 5851k\n",
      "  % Total    % Received % Xferd  Average Speed   Time    Time     Time  Current\n",
      "                                 Dload  Upload   Total   Spent    Left  Speed\n",
      "100  5148  100  5148    0     0  62077      0 --:--:-- --:--:-- --:--:-- 62780\n",
      "  % Total    % Received % Xferd  Average Speed   Time    Time     Time  Current\n",
      "                                 Dload  Upload   Total   Spent    Left  Speed\n",
      "100 25.1M  100 25.1M    0     0  24.2M      0  0:00:01  0:00:01 --:--:-- 24.2M\n"
     ]
    }
   ],
   "source": [
    "!curl http://fashion-mnist.s3-website.eu-central-1.amazonaws.com/train-labels-idx1-ubyte.gz -o ./data/fashion/train-labels-idx1-ubyte.gz\n",
    "!curl http://fashion-mnist.s3-website.eu-central-1.amazonaws.com/t10k-images-idx3-ubyte.gz -o ./data/fashion/t10k-images-idx3-ubyte.gz\n",
    "!curl http://fashion-mnist.s3-website.eu-central-1.amazonaws.com/t10k-labels-idx1-ubyte.gz -o ./data/fashion/t10k-labels-idx1-ubyte.gz\n",
    "!curl http://fashion-mnist.s3-website.eu-central-1.amazonaws.com/train-images-idx3-ubyte.gz -o ./data/fashion/train-images-idx3-ubyte.gz"
   ]
  },
  {
   "cell_type": "markdown",
   "metadata": {},
   "source": [
    "# Import Packages"
   ]
  },
  {
   "cell_type": "code",
   "execution_count": 3,
   "metadata": {},
   "outputs": [
    {
     "name": "stderr",
     "output_type": "stream",
     "text": [
      "Using TensorFlow backend.\n"
     ]
    }
   ],
   "source": [
    "from __future__ import print_function\n",
    "import keras\n",
    "from keras.datasets import mnist\n",
    "from keras.models import Sequential\n",
    "from keras.layers import Dense, Dropout, Flatten\n",
    "from keras.layers import Conv2D, MaxPooling2D\n",
    "from keras import backend as K\n",
    "\n",
    "import tensorflow  as tf\n",
    "from keras.layers import *\n",
    "from keras.callbacks import ReduceLROnPlateau"
   ]
  },
  {
   "cell_type": "code",
   "execution_count": 4,
   "metadata": {
    "collapsed": true
   },
   "outputs": [],
   "source": [
    "from sklearn.utils import shuffle"
   ]
  },
  {
   "cell_type": "code",
   "execution_count": 5,
   "metadata": {
    "collapsed": true
   },
   "outputs": [],
   "source": [
    "import matplotlib.pyplot as plt\n",
    "%matplotlib inline"
   ]
  },
  {
   "cell_type": "markdown",
   "metadata": {},
   "source": [
    "# Experiment Configuration"
   ]
  },
  {
   "cell_type": "code",
   "execution_count": 6,
   "metadata": {
    "collapsed": true
   },
   "outputs": [],
   "source": [
    "batch_size = 128\n",
    "num_classes = 10\n",
    "epochs = 100\n",
    "w_l2 = 1e-4"
   ]
  },
  {
   "cell_type": "code",
   "execution_count": 7,
   "metadata": {
    "collapsed": true
   },
   "outputs": [],
   "source": [
    "reduce_lr = ReduceLROnPlateau(monitor='val_loss', factor=0.2, patience=5, min_lr=1e-5)"
   ]
  },
  {
   "cell_type": "markdown",
   "metadata": {},
   "source": [
    "# Data Loader function"
   ]
  },
  {
   "cell_type": "code",
   "execution_count": 8,
   "metadata": {
    "collapsed": true
   },
   "outputs": [],
   "source": [
    "# https://github.com/zalandoresearch/fashion-mnist/blob/master/utils/mnist_reader.py\n",
    "def load_mnist(path, kind='train'):\n",
    "    import os\n",
    "    import gzip\n",
    "    import numpy as np\n",
    "\n",
    "    \"\"\"Load MNIST data from `path`\"\"\"\n",
    "    labels_path = os.path.join(path,\n",
    "                               '%s-labels-idx1-ubyte.gz'\n",
    "                               % kind)\n",
    "    images_path = os.path.join(path,\n",
    "                               '%s-images-idx3-ubyte.gz'\n",
    "                               % kind)\n",
    "\n",
    "    with gzip.open(labels_path, 'rb') as lbpath:\n",
    "        labels = np.frombuffer(lbpath.read(), dtype=np.uint8,\n",
    "                               offset=8)\n",
    "\n",
    "    with gzip.open(images_path, 'rb') as imgpath:\n",
    "        images = np.frombuffer(imgpath.read(), dtype=np.uint8,\n",
    "                               offset=16).reshape(len(labels), 784)\n",
    "\n",
    "    return images, labels"
   ]
  },
  {
   "cell_type": "markdown",
   "metadata": {},
   "source": [
    "## Load Data"
   ]
  },
  {
   "cell_type": "code",
   "execution_count": 9,
   "metadata": {
    "collapsed": true
   },
   "outputs": [],
   "source": [
    "x_train, y_train =load_mnist('./data/fashion', kind='train')\n",
    "x_test, y_test = load_mnist('./data/fashion', kind='t10k')"
   ]
  },
  {
   "cell_type": "markdown",
   "metadata": {},
   "source": [
    "## Normalize data"
   ]
  },
  {
   "cell_type": "code",
   "execution_count": 10,
   "metadata": {},
   "outputs": [
    {
     "name": "stdout",
     "output_type": "stream",
     "text": [
      "x_train shape: (60000, 28, 28, 1)\n",
      "60000 train samples\n",
      "10000 test samples\n"
     ]
    }
   ],
   "source": [
    "img_rows, img_cols = 28, 28\n",
    "\n",
    "if K.image_data_format() == 'channels_first':\n",
    "    x_train = x_train.reshape(x_train.shape[0], 1, img_rows, img_cols)\n",
    "    x_test = x_test.reshape(x_test.shape[0], 1, img_rows, img_cols)\n",
    "    input_shape = (1, img_rows, img_cols)\n",
    "else:\n",
    "    x_train = x_train.reshape(x_train.shape[0], img_rows, img_cols, 1)\n",
    "    x_test = x_test.reshape(x_test.shape[0], img_rows, img_cols, 1)\n",
    "    input_shape = (img_rows, img_cols, 1)\n",
    "\n",
    "x_train = x_train.astype('float32')\n",
    "x_test = x_test.astype('float32')\n",
    "x_train /= 255\n",
    "x_test /= 255\n",
    "print('x_train shape:', x_train.shape)\n",
    "print(x_train.shape[0], 'train samples')\n",
    "print(x_test.shape[0], 'test samples')\n",
    "\n",
    "# convert class vectors to binary class matrices\n",
    "y_train = keras.utils.to_categorical(y_train, num_classes)\n",
    "y_test = keras.utils.to_categorical(y_test, num_classes)"
   ]
  },
  {
   "cell_type": "markdown",
   "metadata": {},
   "source": [
    "# Create Mixup Data"
   ]
  },
  {
   "cell_type": "code",
   "execution_count": 11,
   "metadata": {
    "collapsed": true
   },
   "outputs": [],
   "source": [
    "len_x_train = x_train.shape[0]"
   ]
  },
  {
   "cell_type": "code",
   "execution_count": 12,
   "metadata": {
    "collapsed": true
   },
   "outputs": [],
   "source": [
    "def get_mixup_data(x_train, y_train, alpha=0.1, prob50=False):\n",
    "    \n",
    "    x_mixup, y_mixup = shuffle(x_train, y_train)\n",
    "    \n",
    "    for i in range(len_x_train):\n",
    "        lam = np.random.beta(alpha, alpha)\n",
    "        #rand_idx = np.random.choice(len_x_train)\n",
    "        x_mixup[i] = (lam * x_train[i]) + (1. - lam) * (x_mixup[i])\n",
    "        y_mixup[i] = (lam * y_train[i]) + (1. - lam) * (y_mixup[i])\n",
    "    \n",
    "    if prob50 is True:\n",
    "        if np.random.choice([True, False]):\n",
    "            x_mixup, y_mixup = shuffle(x_train, y_train)\n",
    "        \n",
    "    return x_mixup, y_mixup"
   ]
  },
  {
   "cell_type": "code",
   "execution_count": 17,
   "metadata": {
    "collapsed": true
   },
   "outputs": [],
   "source": [
    "# Custom generator for mixup data\n",
    "def mix_data_gen(alpha=0.1, prob50=False):\n",
    "    len_x_train = x_train.shape[0]\n",
    "    x_out = np.zeros((batch_size, x_train.shape[1], x_train.shape[2], x_train.shape[3]))\n",
    "    y_out = np.zeros((batch_size, y_train.shape[1]))\n",
    "    #idx = 0\n",
    "    \n",
    "    while True:\n",
    "        for i in range(batch_size):\n",
    "            lam = np.random.beta(alpha, alpha)\n",
    "            if prob50 and np.random.choice([True, False]):\n",
    "                lam = 1\n",
    "            rand_idx1 = np.random.choice(len_x_train)\n",
    "            rand_idx2 = np.random.choice(len_x_train)\n",
    "            x_out[i] = lam * x_train[rand_idx1] + (1 - lam) * x_train[rand_idx2]\n",
    "            y_out[i] = lam * y_train[rand_idx1] + (1 - lam) * y_train[rand_idx2]\n",
    "            \n",
    "            #idx = idx + 1\n",
    "            #if idx >= len_x_train:\n",
    "            #    idx = 0\n",
    "\n",
    "        yield (x_out, y_out)"
   ]
  },
  {
   "cell_type": "markdown",
   "metadata": {},
   "source": [
    "# Utility functions"
   ]
  },
  {
   "cell_type": "code",
   "execution_count": 13,
   "metadata": {
    "collapsed": true
   },
   "outputs": [],
   "source": [
    "def extend_history(hist1, hist2):\n",
    "    attrs = ['val_acc', 'acc', 'val_loss', 'loss']\n",
    "    \n",
    "    for attr in attrs:\n",
    "        hist1.history[attr].extend(hist2.history[attr])"
   ]
  },
  {
   "cell_type": "markdown",
   "metadata": {},
   "source": [
    "# Experiment"
   ]
  },
  {
   "cell_type": "markdown",
   "metadata": {},
   "source": [
    "## 1. ReLU, w/o mixup data augmentation"
   ]
  },
  {
   "cell_type": "code",
   "execution_count": 20,
   "metadata": {
    "collapsed": true
   },
   "outputs": [],
   "source": [
    "img_rows, img_cols = 28, 28\n",
    "\n",
    "model = Sequential()\n",
    "model.add(Conv2D(32, kernel_size=(3, 3),  kernel_regularizer=regularizers.l2(w_l2),\n",
    "                 input_shape=input_shape))\n",
    "model.add(BatchNormalization())\n",
    "model.add(Activation('relu'))\n",
    "model.add(Conv2D(64, (3, 3),  kernel_regularizer=regularizers.l2(w_l2)))\n",
    "model.add(BatchNormalization())\n",
    "model.add(Activation('relu'))\n",
    "model.add(MaxPooling2D(pool_size=(2, 2)))\n",
    "model.add(Dropout(0.25))\n",
    "model.add(Flatten())\n",
    "model.add(Dense(128, kernel_regularizer=regularizers.l2(w_l2)))\n",
    "model.add(BatchNormalization())\n",
    "model.add(Activation('relu'))\n",
    "model.add(Dropout(0.5))\n",
    "model.add(Dense(num_classes, activation='softmax'))\n",
    "\n",
    "model.compile(loss=keras.losses.categorical_crossentropy,\n",
    "              optimizer=keras.optimizers.Adam(),\n",
    "              metrics=['accuracy'])"
   ]
  },
  {
   "cell_type": "code",
   "execution_count": 21,
   "metadata": {
    "scrolled": true
   },
   "outputs": [
    {
     "name": "stdout",
     "output_type": "stream",
     "text": [
      "Train on 60000 samples, validate on 10000 samples\n",
      "Epoch 1/100\n",
      "16s - loss: 0.4778 - acc: 0.8485 - val_loss: 0.5183 - val_acc: 0.8523\n",
      "Epoch 2/100\n",
      "16s - loss: 0.3501 - acc: 0.8966 - val_loss: 0.3324 - val_acc: 0.9046\n",
      "Epoch 3/100\n",
      "16s - loss: 0.3273 - acc: 0.9078 - val_loss: 0.3284 - val_acc: 0.9103\n",
      "Epoch 4/100\n",
      "16s - loss: 0.3156 - acc: 0.9184 - val_loss: 0.3412 - val_acc: 0.9098\n",
      "Epoch 5/100\n",
      "16s - loss: 0.3095 - acc: 0.9235 - val_loss: 0.3431 - val_acc: 0.9130\n",
      "Epoch 6/100\n",
      "16s - loss: 0.3086 - acc: 0.9271 - val_loss: 0.3474 - val_acc: 0.9145\n",
      "Epoch 7/100\n",
      "16s - loss: 0.3008 - acc: 0.9320 - val_loss: 0.3405 - val_acc: 0.9221\n",
      "Epoch 8/100\n",
      "16s - loss: 0.3031 - acc: 0.9337 - val_loss: 0.3605 - val_acc: 0.9199\n",
      "Epoch 9/100\n",
      "16s - loss: 0.2965 - acc: 0.9384 - val_loss: 0.3533 - val_acc: 0.9201\n",
      "Epoch 10/100\n",
      "16s - loss: 0.2580 - acc: 0.9551 - val_loss: 0.3239 - val_acc: 0.9304\n",
      "Epoch 11/100\n",
      "16s - loss: 0.2314 - acc: 0.9615 - val_loss: 0.3162 - val_acc: 0.9324\n",
      "Epoch 12/100\n",
      "16s - loss: 0.2150 - acc: 0.9648 - val_loss: 0.3102 - val_acc: 0.9321\n",
      "Epoch 13/100\n",
      "16s - loss: 0.2025 - acc: 0.9668 - val_loss: 0.3026 - val_acc: 0.9337\n",
      "Epoch 14/100\n",
      "16s - loss: 0.1912 - acc: 0.9690 - val_loss: 0.3018 - val_acc: 0.9345\n",
      "Epoch 15/100\n",
      "16s - loss: 0.1796 - acc: 0.9713 - val_loss: 0.2992 - val_acc: 0.9340\n",
      "Epoch 16/100\n",
      "16s - loss: 0.1726 - acc: 0.9722 - val_loss: 0.2985 - val_acc: 0.9324\n",
      "Epoch 17/100\n",
      "16s - loss: 0.1634 - acc: 0.9742 - val_loss: 0.2968 - val_acc: 0.9331\n",
      "Epoch 18/100\n",
      "16s - loss: 0.1551 - acc: 0.9767 - val_loss: 0.2975 - val_acc: 0.9336\n",
      "Epoch 19/100\n",
      "16s - loss: 0.1504 - acc: 0.9774 - val_loss: 0.2935 - val_acc: 0.9350\n",
      "Epoch 20/100\n",
      "16s - loss: 0.1432 - acc: 0.9785 - val_loss: 0.2971 - val_acc: 0.9330\n",
      "Epoch 21/100\n",
      "16s - loss: 0.1409 - acc: 0.9783 - val_loss: 0.2911 - val_acc: 0.9323\n",
      "Epoch 22/100\n",
      "16s - loss: 0.1346 - acc: 0.9798 - val_loss: 0.2922 - val_acc: 0.9337\n",
      "Epoch 23/100\n",
      "16s - loss: 0.1314 - acc: 0.9810 - val_loss: 0.3102 - val_acc: 0.9320\n",
      "Epoch 24/100\n",
      "16s - loss: 0.1261 - acc: 0.9819 - val_loss: 0.3007 - val_acc: 0.9331\n",
      "Epoch 25/100\n",
      "16s - loss: 0.1252 - acc: 0.9820 - val_loss: 0.3100 - val_acc: 0.9314\n",
      "Epoch 26/100\n",
      "16s - loss: 0.1206 - acc: 0.9824 - val_loss: 0.3033 - val_acc: 0.9325\n",
      "Epoch 27/100\n",
      "16s - loss: 0.1191 - acc: 0.9827 - val_loss: 0.3018 - val_acc: 0.9333\n",
      "Epoch 28/100\n",
      "16s - loss: 0.1116 - acc: 0.9858 - val_loss: 0.2942 - val_acc: 0.9362\n",
      "Epoch 29/100\n",
      "16s - loss: 0.1054 - acc: 0.9873 - val_loss: 0.2951 - val_acc: 0.9353\n",
      "Epoch 30/100\n",
      "16s - loss: 0.1039 - acc: 0.9883 - val_loss: 0.2998 - val_acc: 0.9353\n",
      "Epoch 31/100\n",
      "16s - loss: 0.1017 - acc: 0.9886 - val_loss: 0.2986 - val_acc: 0.9359\n",
      "Epoch 32/100\n",
      "16s - loss: 0.0996 - acc: 0.9887 - val_loss: 0.2975 - val_acc: 0.9362\n",
      "Epoch 33/100\n",
      "16s - loss: 0.0993 - acc: 0.9891 - val_loss: 0.2987 - val_acc: 0.9363\n",
      "Epoch 34/100\n",
      "16s - loss: 0.0981 - acc: 0.9898 - val_loss: 0.2997 - val_acc: 0.9363\n",
      "Epoch 35/100\n",
      "16s - loss: 0.0965 - acc: 0.9900 - val_loss: 0.2982 - val_acc: 0.9359\n",
      "Epoch 36/100\n",
      "16s - loss: 0.0974 - acc: 0.9892 - val_loss: 0.2985 - val_acc: 0.9363\n",
      "Epoch 37/100\n",
      "16s - loss: 0.0968 - acc: 0.9899 - val_loss: 0.2971 - val_acc: 0.9369\n",
      "Epoch 38/100\n",
      "16s - loss: 0.0966 - acc: 0.9898 - val_loss: 0.2981 - val_acc: 0.9368\n",
      "Epoch 39/100\n",
      "16s - loss: 0.0967 - acc: 0.9899 - val_loss: 0.2967 - val_acc: 0.9367\n",
      "Epoch 40/100\n",
      "16s - loss: 0.0962 - acc: 0.9898 - val_loss: 0.2974 - val_acc: 0.9363\n",
      "Epoch 41/100\n",
      "16s - loss: 0.0949 - acc: 0.9902 - val_loss: 0.2984 - val_acc: 0.9370\n",
      "Epoch 42/100\n",
      "16s - loss: 0.0947 - acc: 0.9907 - val_loss: 0.2974 - val_acc: 0.9371\n",
      "Epoch 43/100\n",
      "16s - loss: 0.0935 - acc: 0.9909 - val_loss: 0.2969 - val_acc: 0.9373\n",
      "Epoch 44/100\n",
      "16s - loss: 0.0933 - acc: 0.9911 - val_loss: 0.2974 - val_acc: 0.9369\n",
      "Epoch 45/100\n",
      "16s - loss: 0.0934 - acc: 0.9907 - val_loss: 0.2983 - val_acc: 0.9369\n",
      "Epoch 46/100\n",
      "16s - loss: 0.0929 - acc: 0.9904 - val_loss: 0.2992 - val_acc: 0.9363\n",
      "Epoch 47/100\n",
      "16s - loss: 0.0928 - acc: 0.9908 - val_loss: 0.3002 - val_acc: 0.9365\n",
      "Epoch 48/100\n",
      "16s - loss: 0.0915 - acc: 0.9910 - val_loss: 0.2999 - val_acc: 0.9363\n",
      "Epoch 49/100\n",
      "16s - loss: 0.0926 - acc: 0.9906 - val_loss: 0.2983 - val_acc: 0.9365\n",
      "Epoch 50/100\n",
      "16s - loss: 0.0915 - acc: 0.9913 - val_loss: 0.2986 - val_acc: 0.9364\n",
      "Epoch 51/100\n",
      "16s - loss: 0.0908 - acc: 0.9910 - val_loss: 0.3011 - val_acc: 0.9370\n",
      "Epoch 52/100\n",
      "16s - loss: 0.0905 - acc: 0.9911 - val_loss: 0.2996 - val_acc: 0.9362\n",
      "Epoch 53/100\n",
      "16s - loss: 0.0898 - acc: 0.9916 - val_loss: 0.2995 - val_acc: 0.9370\n",
      "Epoch 54/100\n",
      "16s - loss: 0.0891 - acc: 0.9921 - val_loss: 0.3005 - val_acc: 0.9374\n",
      "Epoch 55/100\n",
      "16s - loss: 0.0899 - acc: 0.9911 - val_loss: 0.2986 - val_acc: 0.9370\n",
      "Epoch 56/100\n",
      "16s - loss: 0.0899 - acc: 0.9917 - val_loss: 0.2990 - val_acc: 0.9371\n",
      "Epoch 57/100\n",
      "16s - loss: 0.0887 - acc: 0.9916 - val_loss: 0.2990 - val_acc: 0.9368\n",
      "Epoch 58/100\n",
      "16s - loss: 0.0883 - acc: 0.9915 - val_loss: 0.2981 - val_acc: 0.9368\n",
      "Epoch 59/100\n",
      "16s - loss: 0.0888 - acc: 0.9916 - val_loss: 0.2997 - val_acc: 0.9366\n",
      "Epoch 60/100\n",
      "16s - loss: 0.0881 - acc: 0.9913 - val_loss: 0.2989 - val_acc: 0.9364\n",
      "Epoch 61/100\n",
      "16s - loss: 0.0878 - acc: 0.9918 - val_loss: 0.2981 - val_acc: 0.9369\n",
      "Epoch 62/100\n",
      "16s - loss: 0.0876 - acc: 0.9913 - val_loss: 0.2980 - val_acc: 0.9374\n",
      "Epoch 63/100\n",
      "16s - loss: 0.0881 - acc: 0.9913 - val_loss: 0.2988 - val_acc: 0.9371\n",
      "Epoch 64/100\n",
      "16s - loss: 0.0862 - acc: 0.9921 - val_loss: 0.2987 - val_acc: 0.9373\n",
      "Epoch 65/100\n",
      "16s - loss: 0.0855 - acc: 0.9923 - val_loss: 0.2993 - val_acc: 0.9372\n",
      "Epoch 66/100\n",
      "16s - loss: 0.0867 - acc: 0.9918 - val_loss: 0.2999 - val_acc: 0.9370\n",
      "Epoch 67/100\n",
      "16s - loss: 0.0854 - acc: 0.9921 - val_loss: 0.3029 - val_acc: 0.9366\n",
      "Epoch 68/100\n",
      "16s - loss: 0.0864 - acc: 0.9916 - val_loss: 0.3015 - val_acc: 0.9364\n",
      "Epoch 69/100\n",
      "16s - loss: 0.0848 - acc: 0.9925 - val_loss: 0.3004 - val_acc: 0.9364\n",
      "Epoch 70/100\n",
      "16s - loss: 0.0850 - acc: 0.9923 - val_loss: 0.3014 - val_acc: 0.9369\n",
      "Epoch 71/100\n",
      "16s - loss: 0.0844 - acc: 0.9922 - val_loss: 0.3020 - val_acc: 0.9365\n",
      "Epoch 72/100\n",
      "16s - loss: 0.0844 - acc: 0.9917 - val_loss: 0.3010 - val_acc: 0.9365\n",
      "Epoch 73/100\n",
      "16s - loss: 0.0834 - acc: 0.9924 - val_loss: 0.2992 - val_acc: 0.9364\n",
      "Epoch 74/100\n",
      "16s - loss: 0.0841 - acc: 0.9920 - val_loss: 0.3017 - val_acc: 0.9365\n",
      "Epoch 75/100\n",
      "16s - loss: 0.0826 - acc: 0.9928 - val_loss: 0.3001 - val_acc: 0.9367\n",
      "Epoch 76/100\n",
      "16s - loss: 0.0827 - acc: 0.9926 - val_loss: 0.3008 - val_acc: 0.9365\n",
      "Epoch 77/100\n",
      "16s - loss: 0.0826 - acc: 0.9928 - val_loss: 0.3004 - val_acc: 0.9362\n",
      "Epoch 78/100\n",
      "16s - loss: 0.0818 - acc: 0.9928 - val_loss: 0.3028 - val_acc: 0.9361\n",
      "Epoch 79/100\n",
      "16s - loss: 0.0828 - acc: 0.9921 - val_loss: 0.3009 - val_acc: 0.9361\n",
      "Epoch 80/100\n",
      "16s - loss: 0.0816 - acc: 0.9926 - val_loss: 0.3028 - val_acc: 0.9361\n",
      "Epoch 81/100\n",
      "16s - loss: 0.0806 - acc: 0.9936 - val_loss: 0.3025 - val_acc: 0.9359\n",
      "Epoch 82/100\n",
      "16s - loss: 0.0816 - acc: 0.9924 - val_loss: 0.3026 - val_acc: 0.9367\n",
      "Epoch 83/100\n",
      "16s - loss: 0.0805 - acc: 0.9935 - val_loss: 0.3012 - val_acc: 0.9365\n",
      "Epoch 84/100\n",
      "16s - loss: 0.0811 - acc: 0.9928 - val_loss: 0.3001 - val_acc: 0.9369\n",
      "Epoch 85/100\n",
      "16s - loss: 0.0801 - acc: 0.9932 - val_loss: 0.3023 - val_acc: 0.9370\n",
      "Epoch 86/100\n",
      "16s - loss: 0.0798 - acc: 0.9932 - val_loss: 0.3014 - val_acc: 0.9369\n",
      "Epoch 87/100\n",
      "16s - loss: 0.0796 - acc: 0.9929 - val_loss: 0.3019 - val_acc: 0.9370\n",
      "Epoch 88/100\n",
      "16s - loss: 0.0800 - acc: 0.9926 - val_loss: 0.3046 - val_acc: 0.9371\n",
      "Epoch 89/100\n",
      "16s - loss: 0.0802 - acc: 0.9931 - val_loss: 0.3008 - val_acc: 0.9367\n",
      "Epoch 90/100\n",
      "16s - loss: 0.0793 - acc: 0.9926 - val_loss: 0.3020 - val_acc: 0.9366\n",
      "Epoch 91/100\n",
      "16s - loss: 0.0790 - acc: 0.9937 - val_loss: 0.3028 - val_acc: 0.9368\n",
      "Epoch 92/100\n",
      "16s - loss: 0.0781 - acc: 0.9932 - val_loss: 0.3057 - val_acc: 0.9368\n",
      "Epoch 93/100\n",
      "16s - loss: 0.0781 - acc: 0.9930 - val_loss: 0.3029 - val_acc: 0.9371\n",
      "Epoch 94/100\n",
      "16s - loss: 0.0785 - acc: 0.9929 - val_loss: 0.3016 - val_acc: 0.9373\n",
      "Epoch 95/100\n",
      "16s - loss: 0.0778 - acc: 0.9935 - val_loss: 0.3008 - val_acc: 0.9364\n",
      "Epoch 96/100\n",
      "16s - loss: 0.0775 - acc: 0.9932 - val_loss: 0.3026 - val_acc: 0.9375\n",
      "Epoch 97/100\n",
      "16s - loss: 0.0778 - acc: 0.9926 - val_loss: 0.3038 - val_acc: 0.9374\n",
      "Epoch 98/100\n",
      "16s - loss: 0.0763 - acc: 0.9938 - val_loss: 0.3035 - val_acc: 0.9366\n",
      "Epoch 99/100\n",
      "16s - loss: 0.0767 - acc: 0.9935 - val_loss: 0.3034 - val_acc: 0.9370\n",
      "Epoch 100/100\n"
     ]
    },
    {
     "name": "stdout",
     "output_type": "stream",
     "text": [
      "16s - loss: 0.0773 - acc: 0.9929 - val_loss: 0.3030 - val_acc: 0.9370\n",
      "Test loss: 0.302997720444\n",
      "Test accuracy: 0.937\n"
     ]
    }
   ],
   "source": [
    "hist_relu=model.fit(x_train, y_train,\n",
    "          batch_size=batch_size,\n",
    "          epochs=epochs,\n",
    "          verbose=2,\n",
    "          validation_data=(x_test, y_test), callbacks=[reduce_lr])\n",
    "score = model.evaluate(x_test, y_test, verbose=0)\n",
    "print('Test loss:', score[0])\n",
    "print('Test accuracy:', score[1])\n"
   ]
  },
  {
   "cell_type": "markdown",
   "metadata": {},
   "source": [
    "## 2. ReLU, w/ mixup, alpha=0.1"
   ]
  },
  {
   "cell_type": "code",
   "execution_count": 15,
   "metadata": {
    "collapsed": true
   },
   "outputs": [],
   "source": [
    "img_rows, img_cols = 28, 28\n",
    "\n",
    "model = Sequential()\n",
    "model.add(Conv2D(32, kernel_size=(3, 3),  kernel_regularizer=regularizers.l2(w_l2),\n",
    "                 input_shape=input_shape))\n",
    "model.add(BatchNormalization())\n",
    "model.add(Activation('relu'))\n",
    "model.add(Conv2D(64, (3, 3),  kernel_regularizer=regularizers.l2(w_l2)))\n",
    "model.add(BatchNormalization())\n",
    "model.add(Activation('relu'))\n",
    "model.add(MaxPooling2D(pool_size=(2, 2)))\n",
    "model.add(Dropout(0.25))\n",
    "model.add(Flatten())\n",
    "model.add(Dense(128, kernel_regularizer=regularizers.l2(w_l2)))\n",
    "model.add(BatchNormalization())\n",
    "model.add(Activation('relu'))\n",
    "model.add(Dropout(0.5))\n",
    "model.add(Dense(num_classes, activation='softmax'))\n",
    "\n",
    "model.compile(loss=keras.losses.categorical_crossentropy,\n",
    "              optimizer=keras.optimizers.Adam(),\n",
    "              metrics=['accuracy'])"
   ]
  },
  {
   "cell_type": "code",
   "execution_count": 16,
   "metadata": {
    "scrolled": true
   },
   "outputs": [
    {
     "name": "stdout",
     "output_type": "stream",
     "text": [
      "Epoch 1/100\n",
      "20s - loss: 0.6741 - acc: 0.8307 - val_loss: 0.8051 - val_acc: 0.7984\n",
      "Epoch 2/100\n",
      "16s - loss: 0.5487 - acc: 0.8787 - val_loss: 0.3451 - val_acc: 0.8989\n",
      "Epoch 3/100\n",
      "16s - loss: 0.5262 - acc: 0.8881 - val_loss: 0.3692 - val_acc: 0.8995\n",
      "Epoch 4/100\n",
      "16s - loss: 0.5197 - acc: 0.8934 - val_loss: 0.3488 - val_acc: 0.9073\n",
      "Epoch 5/100\n",
      "16s - loss: 0.5025 - acc: 0.9018 - val_loss: 0.3722 - val_acc: 0.8998\n",
      "Epoch 6/100\n",
      "16s - loss: 0.5047 - acc: 0.9020 - val_loss: 0.3345 - val_acc: 0.9181\n",
      "Epoch 7/100\n",
      "16s - loss: 0.4956 - acc: 0.9071 - val_loss: 0.3406 - val_acc: 0.9180\n",
      "Epoch 8/100\n",
      "16s - loss: 0.4910 - acc: 0.9096 - val_loss: 0.3566 - val_acc: 0.9156\n",
      "Epoch 9/100\n",
      "16s - loss: 0.4867 - acc: 0.9129 - val_loss: 0.3696 - val_acc: 0.9123\n",
      "Epoch 10/100\n",
      "16s - loss: 0.4870 - acc: 0.9149 - val_loss: 0.3427 - val_acc: 0.9229\n",
      "Epoch 11/100\n",
      "16s - loss: 0.4903 - acc: 0.9148 - val_loss: 0.3858 - val_acc: 0.9144\n",
      "Epoch 12/100\n",
      "16s - loss: 0.4836 - acc: 0.9173 - val_loss: 0.3635 - val_acc: 0.9206\n",
      "Epoch 13/100\n",
      "16s - loss: 0.4612 - acc: 0.9247 - val_loss: 0.3157 - val_acc: 0.9316\n",
      "Epoch 14/100\n",
      "16s - loss: 0.4383 - acc: 0.9312 - val_loss: 0.3096 - val_acc: 0.9325\n",
      "Epoch 15/100\n",
      "16s - loss: 0.4177 - acc: 0.9346 - val_loss: 0.3006 - val_acc: 0.9346\n",
      "Epoch 16/100\n",
      "16s - loss: 0.4070 - acc: 0.9358 - val_loss: 0.2894 - val_acc: 0.9364\n",
      "Epoch 17/100\n",
      "16s - loss: 0.3944 - acc: 0.9385 - val_loss: 0.2846 - val_acc: 0.9349\n",
      "Epoch 18/100\n",
      "16s - loss: 0.3841 - acc: 0.9399 - val_loss: 0.2830 - val_acc: 0.9336\n",
      "Epoch 19/100\n",
      "16s - loss: 0.3768 - acc: 0.9407 - val_loss: 0.2753 - val_acc: 0.9376\n",
      "Epoch 20/100\n",
      "16s - loss: 0.3680 - acc: 0.9437 - val_loss: 0.2808 - val_acc: 0.9354\n",
      "Epoch 21/100\n",
      "16s - loss: 0.3665 - acc: 0.9434 - val_loss: 0.2750 - val_acc: 0.9341\n",
      "Epoch 22/100\n",
      "16s - loss: 0.3627 - acc: 0.9446 - val_loss: 0.2776 - val_acc: 0.9342\n",
      "Epoch 23/100\n",
      "16s - loss: 0.3562 - acc: 0.9448 - val_loss: 0.2697 - val_acc: 0.9354\n",
      "Epoch 24/100\n",
      "16s - loss: 0.3549 - acc: 0.9445 - val_loss: 0.2698 - val_acc: 0.9349\n",
      "Epoch 25/100\n",
      "16s - loss: 0.3470 - acc: 0.9470 - val_loss: 0.2675 - val_acc: 0.9349\n",
      "Epoch 26/100\n",
      "16s - loss: 0.3524 - acc: 0.9461 - val_loss: 0.2598 - val_acc: 0.9364\n",
      "Epoch 27/100\n",
      "16s - loss: 0.3337 - acc: 0.9505 - val_loss: 0.2633 - val_acc: 0.9360\n",
      "Epoch 28/100\n",
      "16s - loss: 0.3351 - acc: 0.9482 - val_loss: 0.2620 - val_acc: 0.9373\n",
      "Epoch 29/100\n",
      "16s - loss: 0.3372 - acc: 0.9489 - val_loss: 0.2594 - val_acc: 0.9370\n",
      "Epoch 30/100\n",
      "16s - loss: 0.3314 - acc: 0.9504 - val_loss: 0.2567 - val_acc: 0.9377\n",
      "Epoch 31/100\n",
      "16s - loss: 0.3313 - acc: 0.9499 - val_loss: 0.2618 - val_acc: 0.9351\n",
      "Epoch 32/100\n",
      "16s - loss: 0.3268 - acc: 0.9516 - val_loss: 0.2618 - val_acc: 0.9350\n",
      "Epoch 33/100\n",
      "16s - loss: 0.3238 - acc: 0.9502 - val_loss: 0.2640 - val_acc: 0.9348\n",
      "Epoch 34/100\n",
      "16s - loss: 0.3239 - acc: 0.9511 - val_loss: 0.2592 - val_acc: 0.9350\n",
      "Epoch 35/100\n",
      "16s - loss: 0.3228 - acc: 0.9519 - val_loss: 0.2641 - val_acc: 0.9357\n",
      "Epoch 36/100\n",
      "16s - loss: 0.3228 - acc: 0.9522 - val_loss: 0.2554 - val_acc: 0.9359\n",
      "Epoch 37/100\n",
      "16s - loss: 0.3196 - acc: 0.9513 - val_loss: 0.2694 - val_acc: 0.9375\n",
      "Epoch 38/100\n",
      "16s - loss: 0.3230 - acc: 0.9510 - val_loss: 0.2520 - val_acc: 0.9368\n",
      "Epoch 39/100\n",
      "16s - loss: 0.3201 - acc: 0.9523 - val_loss: 0.2553 - val_acc: 0.9365\n",
      "Epoch 40/100\n",
      "16s - loss: 0.3168 - acc: 0.9510 - val_loss: 0.2551 - val_acc: 0.9337\n",
      "Epoch 41/100\n",
      "16s - loss: 0.3172 - acc: 0.9519 - val_loss: 0.2624 - val_acc: 0.9350\n",
      "Epoch 42/100\n",
      "16s - loss: 0.3149 - acc: 0.9530 - val_loss: 0.2647 - val_acc: 0.9361\n",
      "Epoch 43/100\n",
      "16s - loss: 0.3143 - acc: 0.9528 - val_loss: 0.2599 - val_acc: 0.9363\n",
      "Epoch 44/100\n",
      "16s - loss: 0.3094 - acc: 0.9538 - val_loss: 0.2627 - val_acc: 0.9364\n",
      "Epoch 45/100\n",
      "16s - loss: 0.3051 - acc: 0.9553 - val_loss: 0.2532 - val_acc: 0.9371\n",
      "Epoch 46/100\n",
      "16s - loss: 0.3037 - acc: 0.9562 - val_loss: 0.2531 - val_acc: 0.9382\n",
      "Epoch 47/100\n",
      "16s - loss: 0.3036 - acc: 0.9568 - val_loss: 0.2537 - val_acc: 0.9377\n",
      "Epoch 48/100\n",
      "16s - loss: 0.2957 - acc: 0.9582 - val_loss: 0.2527 - val_acc: 0.9384\n",
      "Epoch 49/100\n",
      "16s - loss: 0.2948 - acc: 0.9590 - val_loss: 0.2546 - val_acc: 0.9379\n",
      "Epoch 50/100\n",
      "16s - loss: 0.2961 - acc: 0.9580 - val_loss: 0.2508 - val_acc: 0.9387\n",
      "Epoch 51/100\n",
      "16s - loss: 0.2999 - acc: 0.9576 - val_loss: 0.2514 - val_acc: 0.9386\n",
      "Epoch 52/100\n",
      "16s - loss: 0.2955 - acc: 0.9582 - val_loss: 0.2512 - val_acc: 0.9390\n",
      "Epoch 53/100\n",
      "16s - loss: 0.2947 - acc: 0.9589 - val_loss: 0.2514 - val_acc: 0.9385\n",
      "Epoch 54/100\n",
      "16s - loss: 0.2952 - acc: 0.9586 - val_loss: 0.2521 - val_acc: 0.9389\n",
      "Epoch 55/100\n",
      "16s - loss: 0.2916 - acc: 0.9584 - val_loss: 0.2512 - val_acc: 0.9391\n",
      "Epoch 56/100\n",
      "16s - loss: 0.2907 - acc: 0.9584 - val_loss: 0.2503 - val_acc: 0.9378\n",
      "Epoch 57/100\n",
      "16s - loss: 0.2946 - acc: 0.9579 - val_loss: 0.2505 - val_acc: 0.9391\n",
      "Epoch 58/100\n",
      "16s - loss: 0.2945 - acc: 0.9592 - val_loss: 0.2500 - val_acc: 0.9387\n",
      "Epoch 59/100\n",
      "16s - loss: 0.2882 - acc: 0.9605 - val_loss: 0.2503 - val_acc: 0.9398\n",
      "Epoch 60/100\n",
      "16s - loss: 0.2959 - acc: 0.9578 - val_loss: 0.2503 - val_acc: 0.9394\n",
      "Epoch 61/100\n",
      "16s - loss: 0.2886 - acc: 0.9596 - val_loss: 0.2495 - val_acc: 0.9398\n",
      "Epoch 62/100\n",
      "16s - loss: 0.2887 - acc: 0.9608 - val_loss: 0.2493 - val_acc: 0.9394\n",
      "Epoch 63/100\n",
      "16s - loss: 0.2946 - acc: 0.9596 - val_loss: 0.2496 - val_acc: 0.9389\n",
      "Epoch 64/100\n",
      "16s - loss: 0.2925 - acc: 0.9582 - val_loss: 0.2490 - val_acc: 0.9388\n",
      "Epoch 65/100\n",
      "16s - loss: 0.2948 - acc: 0.9600 - val_loss: 0.2493 - val_acc: 0.9396\n",
      "Epoch 66/100\n",
      "16s - loss: 0.2957 - acc: 0.9590 - val_loss: 0.2488 - val_acc: 0.9394\n",
      "Epoch 67/100\n",
      "16s - loss: 0.2847 - acc: 0.9603 - val_loss: 0.2490 - val_acc: 0.9391\n",
      "Epoch 68/100\n",
      "16s - loss: 0.2895 - acc: 0.9604 - val_loss: 0.2492 - val_acc: 0.9389\n",
      "Epoch 69/100\n",
      "16s - loss: 0.2897 - acc: 0.9582 - val_loss: 0.2484 - val_acc: 0.9392\n",
      "Epoch 70/100\n",
      "16s - loss: 0.2888 - acc: 0.9601 - val_loss: 0.2496 - val_acc: 0.9395\n",
      "Epoch 71/100\n",
      "16s - loss: 0.2883 - acc: 0.9594 - val_loss: 0.2492 - val_acc: 0.9391\n",
      "Epoch 72/100\n",
      "16s - loss: 0.2917 - acc: 0.9585 - val_loss: 0.2491 - val_acc: 0.9397\n",
      "Epoch 73/100\n",
      "16s - loss: 0.2879 - acc: 0.9619 - val_loss: 0.2486 - val_acc: 0.9392\n",
      "Epoch 74/100\n",
      "16s - loss: 0.2904 - acc: 0.9585 - val_loss: 0.2491 - val_acc: 0.9395\n",
      "Epoch 75/100\n",
      "16s - loss: 0.2883 - acc: 0.9606 - val_loss: 0.2487 - val_acc: 0.9395\n",
      "Epoch 76/100\n",
      "16s - loss: 0.2887 - acc: 0.9611 - val_loss: 0.2487 - val_acc: 0.9394\n",
      "Epoch 77/100\n",
      "16s - loss: 0.2845 - acc: 0.9604 - val_loss: 0.2484 - val_acc: 0.9394\n",
      "Epoch 78/100\n",
      "16s - loss: 0.2853 - acc: 0.9605 - val_loss: 0.2482 - val_acc: 0.9395\n",
      "Epoch 79/100\n",
      "16s - loss: 0.2839 - acc: 0.9628 - val_loss: 0.2495 - val_acc: 0.9386\n",
      "Epoch 80/100\n",
      "16s - loss: 0.2909 - acc: 0.9604 - val_loss: 0.2487 - val_acc: 0.9397\n",
      "Epoch 81/100\n",
      "16s - loss: 0.2867 - acc: 0.9607 - val_loss: 0.2481 - val_acc: 0.9394\n",
      "Epoch 82/100\n",
      "16s - loss: 0.2889 - acc: 0.9596 - val_loss: 0.2480 - val_acc: 0.9400\n",
      "Epoch 83/100\n",
      "16s - loss: 0.2826 - acc: 0.9612 - val_loss: 0.2477 - val_acc: 0.9392\n",
      "Epoch 84/100\n",
      "16s - loss: 0.2855 - acc: 0.9596 - val_loss: 0.2479 - val_acc: 0.9402\n",
      "Epoch 85/100\n",
      "16s - loss: 0.2837 - acc: 0.9608 - val_loss: 0.2470 - val_acc: 0.9392\n",
      "Epoch 86/100\n",
      "16s - loss: 0.2843 - acc: 0.9611 - val_loss: 0.2481 - val_acc: 0.9389\n",
      "Epoch 87/100\n",
      "16s - loss: 0.2812 - acc: 0.9613 - val_loss: 0.2474 - val_acc: 0.9394\n",
      "Epoch 88/100\n",
      "16s - loss: 0.2818 - acc: 0.9617 - val_loss: 0.2480 - val_acc: 0.9401\n",
      "Epoch 89/100\n",
      "16s - loss: 0.2866 - acc: 0.9605 - val_loss: 0.2485 - val_acc: 0.9396\n",
      "Epoch 90/100\n",
      "16s - loss: 0.2828 - acc: 0.9611 - val_loss: 0.2477 - val_acc: 0.9388\n",
      "Epoch 91/100\n",
      "16s - loss: 0.2862 - acc: 0.9592 - val_loss: 0.2475 - val_acc: 0.9397\n",
      "Epoch 92/100\n",
      "16s - loss: 0.2830 - acc: 0.9610 - val_loss: 0.2474 - val_acc: 0.9395\n",
      "Epoch 93/100\n",
      "16s - loss: 0.2798 - acc: 0.9614 - val_loss: 0.2473 - val_acc: 0.9393\n",
      "Epoch 94/100\n",
      "16s - loss: 0.2848 - acc: 0.9614 - val_loss: 0.2476 - val_acc: 0.9392\n",
      "Epoch 95/100\n",
      "16s - loss: 0.2770 - acc: 0.9618 - val_loss: 0.2477 - val_acc: 0.9392\n",
      "Epoch 96/100\n",
      "16s - loss: 0.2853 - acc: 0.9614 - val_loss: 0.2479 - val_acc: 0.9394\n",
      "Epoch 97/100\n",
      "16s - loss: 0.2825 - acc: 0.9611 - val_loss: 0.2478 - val_acc: 0.9395\n",
      "Epoch 98/100\n",
      "16s - loss: 0.2832 - acc: 0.9618 - val_loss: 0.2472 - val_acc: 0.9398\n",
      "Epoch 99/100\n",
      "16s - loss: 0.2822 - acc: 0.9606 - val_loss: 0.2473 - val_acc: 0.9394\n",
      "Epoch 100/100\n"
     ]
    },
    {
     "name": "stdout",
     "output_type": "stream",
     "text": [
      "16s - loss: 0.2866 - acc: 0.9608 - val_loss: 0.2475 - val_acc: 0.9394\n",
      "Test loss: 0.24749178896\n",
      "Test accuracy: 0.9394\n"
     ]
    }
   ],
   "source": [
    "hist_relu_mixup=model.fit_generator(mix_data_gen(),\n",
    "          steps_per_epoch = x_train.shape[0]//128,\n",
    "          epochs=epochs,\n",
    "          verbose=2,\n",
    "          validation_data=(x_test, y_test), callbacks=[reduce_lr])\n",
    "score = model.evaluate(x_test, y_test, verbose=0)\n",
    "print('Test loss:', score[0])\n",
    "print('Test accuracy:', score[1])"
   ]
  },
  {
   "cell_type": "markdown",
   "metadata": {},
   "source": [
    "## 3. ReLU w/ mixup, alpha = 0.4"
   ]
  },
  {
   "cell_type": "code",
   "execution_count": 22,
   "metadata": {
    "collapsed": true
   },
   "outputs": [],
   "source": [
    "img_rows, img_cols = 28, 28\n",
    "\n",
    "model = Sequential()\n",
    "model.add(Conv2D(32, kernel_size=(3, 3),  kernel_regularizer=regularizers.l2(w_l2),\n",
    "                 input_shape=input_shape))\n",
    "model.add(BatchNormalization())\n",
    "model.add(Activation('relu'))\n",
    "model.add(Conv2D(64, (3, 3),  kernel_regularizer=regularizers.l2(w_l2)))\n",
    "model.add(BatchNormalization())\n",
    "model.add(Activation('relu'))\n",
    "model.add(MaxPooling2D(pool_size=(2, 2)))\n",
    "model.add(Dropout(0.25))\n",
    "model.add(Flatten())\n",
    "model.add(Dense(128, kernel_regularizer=regularizers.l2(w_l2)))\n",
    "model.add(BatchNormalization())\n",
    "model.add(Activation('relu'))\n",
    "model.add(Dropout(0.5))\n",
    "model.add(Dense(num_classes, activation='softmax'))\n",
    "\n",
    "model.compile(loss=keras.losses.categorical_crossentropy,\n",
    "              optimizer=keras.optimizers.Adam(),\n",
    "              metrics=['accuracy'])"
   ]
  },
  {
   "cell_type": "code",
   "execution_count": 23,
   "metadata": {
    "scrolled": true
   },
   "outputs": [
    {
     "name": "stdout",
     "output_type": "stream",
     "text": [
      "Epoch 1/100\n",
      "16s - loss: 0.9471 - acc: 0.7874 - val_loss: 0.8309 - val_acc: 0.8583\n",
      "Epoch 2/100\n",
      "16s - loss: 0.8198 - acc: 0.8276 - val_loss: 0.3850 - val_acc: 0.8925\n",
      "Epoch 3/100\n",
      "16s - loss: 0.7855 - acc: 0.8373 - val_loss: 0.3573 - val_acc: 0.9010\n",
      "Epoch 4/100\n",
      "16s - loss: 0.7723 - acc: 0.8424 - val_loss: 0.4120 - val_acc: 0.8798\n",
      "Epoch 5/100\n",
      "16s - loss: 0.7576 - acc: 0.8500 - val_loss: 0.3591 - val_acc: 0.9058\n",
      "Epoch 6/100\n",
      "16s - loss: 0.7554 - acc: 0.8530 - val_loss: 0.3556 - val_acc: 0.9113\n",
      "Epoch 7/100\n",
      "16s - loss: 0.7493 - acc: 0.8537 - val_loss: 0.3595 - val_acc: 0.9114\n",
      "Epoch 8/100\n",
      "16s - loss: 0.7447 - acc: 0.8570 - val_loss: 0.3759 - val_acc: 0.9064\n",
      "Epoch 9/100\n",
      "16s - loss: 0.7423 - acc: 0.8560 - val_loss: 0.3613 - val_acc: 0.9171\n",
      "Epoch 10/100\n",
      "16s - loss: 0.7441 - acc: 0.8598 - val_loss: 0.4124 - val_acc: 0.9080\n",
      "Epoch 11/100\n",
      "16s - loss: 0.7373 - acc: 0.8635 - val_loss: 0.3806 - val_acc: 0.9087\n",
      "Epoch 12/100\n",
      "16s - loss: 0.7385 - acc: 0.8605 - val_loss: 0.3675 - val_acc: 0.9132\n",
      "Epoch 13/100\n",
      "16s - loss: 0.7139 - acc: 0.8701 - val_loss: 0.3171 - val_acc: 0.9297\n",
      "Epoch 14/100\n",
      "16s - loss: 0.6843 - acc: 0.8776 - val_loss: 0.3064 - val_acc: 0.9304\n",
      "Epoch 15/100\n",
      "16s - loss: 0.6789 - acc: 0.8776 - val_loss: 0.3036 - val_acc: 0.9306\n",
      "Epoch 16/100\n",
      "16s - loss: 0.6652 - acc: 0.8800 - val_loss: 0.2899 - val_acc: 0.9342\n",
      "Epoch 17/100\n",
      "16s - loss: 0.6541 - acc: 0.8822 - val_loss: 0.2859 - val_acc: 0.9324\n",
      "Epoch 18/100\n",
      "16s - loss: 0.6493 - acc: 0.8834 - val_loss: 0.2800 - val_acc: 0.9338\n",
      "Epoch 19/100\n",
      "16s - loss: 0.6389 - acc: 0.8846 - val_loss: 0.2784 - val_acc: 0.9357\n",
      "Epoch 20/100\n",
      "16s - loss: 0.6351 - acc: 0.8855 - val_loss: 0.2741 - val_acc: 0.9354\n",
      "Epoch 21/100\n",
      "16s - loss: 0.6317 - acc: 0.8851 - val_loss: 0.2696 - val_acc: 0.9356\n",
      "Epoch 22/100\n",
      "16s - loss: 0.6218 - acc: 0.8886 - val_loss: 0.2677 - val_acc: 0.9343\n",
      "Epoch 23/100\n",
      "16s - loss: 0.6202 - acc: 0.8893 - val_loss: 0.2639 - val_acc: 0.9351\n",
      "Epoch 24/100\n",
      "16s - loss: 0.6193 - acc: 0.8893 - val_loss: 0.2630 - val_acc: 0.9349\n",
      "Epoch 25/100\n",
      "16s - loss: 0.6115 - acc: 0.8903 - val_loss: 0.2706 - val_acc: 0.9300\n",
      "Epoch 26/100\n",
      "16s - loss: 0.6087 - acc: 0.8920 - val_loss: 0.2594 - val_acc: 0.9342\n",
      "Epoch 27/100\n",
      "16s - loss: 0.6029 - acc: 0.8934 - val_loss: 0.2596 - val_acc: 0.9345\n",
      "Epoch 28/100\n",
      "16s - loss: 0.6034 - acc: 0.8936 - val_loss: 0.2603 - val_acc: 0.9336\n",
      "Epoch 29/100\n",
      "16s - loss: 0.6083 - acc: 0.8899 - val_loss: 0.2600 - val_acc: 0.9317\n",
      "Epoch 30/100\n",
      "16s - loss: 0.6008 - acc: 0.8925 - val_loss: 0.2562 - val_acc: 0.9363\n",
      "Epoch 31/100\n",
      "16s - loss: 0.5976 - acc: 0.8942 - val_loss: 0.2549 - val_acc: 0.9350\n",
      "Epoch 32/100\n",
      "16s - loss: 0.5914 - acc: 0.8965 - val_loss: 0.2572 - val_acc: 0.9361\n",
      "Epoch 33/100\n",
      "16s - loss: 0.5959 - acc: 0.8936 - val_loss: 0.2546 - val_acc: 0.9363\n",
      "Epoch 34/100\n",
      "16s - loss: 0.5912 - acc: 0.8947 - val_loss: 0.2595 - val_acc: 0.9337\n",
      "Epoch 35/100\n",
      "16s - loss: 0.5935 - acc: 0.8948 - val_loss: 0.2495 - val_acc: 0.9368\n",
      "Epoch 36/100\n",
      "16s - loss: 0.5864 - acc: 0.8955 - val_loss: 0.2572 - val_acc: 0.9337\n",
      "Epoch 37/100\n",
      "16s - loss: 0.5898 - acc: 0.8954 - val_loss: 0.2515 - val_acc: 0.9343\n",
      "Epoch 38/100\n",
      "16s - loss: 0.5847 - acc: 0.8963 - val_loss: 0.2535 - val_acc: 0.9332\n",
      "Epoch 39/100\n",
      "16s - loss: 0.5859 - acc: 0.8970 - val_loss: 0.2563 - val_acc: 0.9313\n",
      "Epoch 40/100\n",
      "16s - loss: 0.5839 - acc: 0.8990 - val_loss: 0.2521 - val_acc: 0.9327\n",
      "Epoch 41/100\n",
      "16s - loss: 0.5840 - acc: 0.8988 - val_loss: 0.2495 - val_acc: 0.9340\n",
      "Epoch 42/100\n",
      "16s - loss: 0.5813 - acc: 0.8980 - val_loss: 0.2475 - val_acc: 0.9352\n",
      "Epoch 43/100\n",
      "16s - loss: 0.5725 - acc: 0.9026 - val_loss: 0.2459 - val_acc: 0.9357\n",
      "Epoch 44/100\n",
      "16s - loss: 0.5711 - acc: 0.9012 - val_loss: 0.2444 - val_acc: 0.9369\n",
      "Epoch 45/100\n",
      "16s - loss: 0.5702 - acc: 0.9018 - val_loss: 0.2441 - val_acc: 0.9372\n",
      "Epoch 46/100\n",
      "16s - loss: 0.5684 - acc: 0.9040 - val_loss: 0.2444 - val_acc: 0.9369\n",
      "Epoch 47/100\n",
      "16s - loss: 0.5681 - acc: 0.9051 - val_loss: 0.2435 - val_acc: 0.9357\n",
      "Epoch 48/100\n",
      "16s - loss: 0.5688 - acc: 0.9034 - val_loss: 0.2444 - val_acc: 0.9370\n",
      "Epoch 49/100\n",
      "16s - loss: 0.5647 - acc: 0.9042 - val_loss: 0.2414 - val_acc: 0.9377\n",
      "Epoch 50/100\n",
      "16s - loss: 0.5625 - acc: 0.9045 - val_loss: 0.2409 - val_acc: 0.9381\n",
      "Epoch 51/100\n",
      "16s - loss: 0.5647 - acc: 0.9028 - val_loss: 0.2415 - val_acc: 0.9376\n",
      "Epoch 52/100\n",
      "16s - loss: 0.5626 - acc: 0.9046 - val_loss: 0.2426 - val_acc: 0.9371\n",
      "Epoch 53/100\n",
      "16s - loss: 0.5610 - acc: 0.9049 - val_loss: 0.2419 - val_acc: 0.9371\n",
      "Epoch 54/100\n",
      "16s - loss: 0.5633 - acc: 0.9060 - val_loss: 0.2414 - val_acc: 0.9362\n",
      "Epoch 55/100\n",
      "16s - loss: 0.5592 - acc: 0.9068 - val_loss: 0.2389 - val_acc: 0.9374\n",
      "Epoch 56/100\n",
      "16s - loss: 0.5562 - acc: 0.9059 - val_loss: 0.2388 - val_acc: 0.9377\n",
      "Epoch 57/100\n",
      "16s - loss: 0.5587 - acc: 0.9057 - val_loss: 0.2401 - val_acc: 0.9373\n",
      "Epoch 58/100\n",
      "16s - loss: 0.5576 - acc: 0.9072 - val_loss: 0.2404 - val_acc: 0.9370\n",
      "Epoch 59/100\n",
      "16s - loss: 0.5588 - acc: 0.9036 - val_loss: 0.2377 - val_acc: 0.9371\n",
      "Epoch 60/100\n",
      "16s - loss: 0.5567 - acc: 0.9053 - val_loss: 0.2401 - val_acc: 0.9367\n",
      "Epoch 61/100\n",
      "16s - loss: 0.5517 - acc: 0.9070 - val_loss: 0.2383 - val_acc: 0.9372\n",
      "Epoch 62/100\n",
      "16s - loss: 0.5518 - acc: 0.9074 - val_loss: 0.2390 - val_acc: 0.9364\n",
      "Epoch 63/100\n",
      "16s - loss: 0.5575 - acc: 0.9056 - val_loss: 0.2390 - val_acc: 0.9372\n",
      "Epoch 64/100\n",
      "16s - loss: 0.5534 - acc: 0.9075 - val_loss: 0.2378 - val_acc: 0.9362\n",
      "Epoch 65/100\n",
      "16s - loss: 0.5503 - acc: 0.9102 - val_loss: 0.2388 - val_acc: 0.9373\n",
      "Epoch 66/100\n",
      "16s - loss: 0.5493 - acc: 0.9091 - val_loss: 0.2371 - val_acc: 0.9371\n",
      "Epoch 67/100\n",
      "16s - loss: 0.5489 - acc: 0.9074 - val_loss: 0.2363 - val_acc: 0.9373\n",
      "Epoch 68/100\n",
      "16s - loss: 0.5484 - acc: 0.9083 - val_loss: 0.2366 - val_acc: 0.9378\n",
      "Epoch 69/100\n",
      "16s - loss: 0.5499 - acc: 0.9082 - val_loss: 0.2363 - val_acc: 0.9372\n",
      "Epoch 70/100\n",
      "16s - loss: 0.5494 - acc: 0.9090 - val_loss: 0.2363 - val_acc: 0.9365\n",
      "Epoch 71/100\n",
      "16s - loss: 0.5498 - acc: 0.9094 - val_loss: 0.2358 - val_acc: 0.9370\n",
      "Epoch 72/100\n",
      "16s - loss: 0.5455 - acc: 0.9091 - val_loss: 0.2353 - val_acc: 0.9367\n",
      "Epoch 73/100\n",
      "16s - loss: 0.5498 - acc: 0.9084 - val_loss: 0.2356 - val_acc: 0.9369\n",
      "Epoch 74/100\n",
      "16s - loss: 0.5513 - acc: 0.9074 - val_loss: 0.2356 - val_acc: 0.9374\n",
      "Epoch 75/100\n",
      "16s - loss: 0.5496 - acc: 0.9071 - val_loss: 0.2354 - val_acc: 0.9367\n",
      "Epoch 76/100\n",
      "16s - loss: 0.5522 - acc: 0.9062 - val_loss: 0.2350 - val_acc: 0.9371\n",
      "Epoch 77/100\n",
      "16s - loss: 0.5474 - acc: 0.9098 - val_loss: 0.2350 - val_acc: 0.9374\n",
      "Epoch 78/100\n",
      "16s - loss: 0.5439 - acc: 0.9094 - val_loss: 0.2345 - val_acc: 0.9372\n",
      "Epoch 79/100\n",
      "16s - loss: 0.5438 - acc: 0.9096 - val_loss: 0.2346 - val_acc: 0.9374\n",
      "Epoch 80/100\n",
      "16s - loss: 0.5471 - acc: 0.9102 - val_loss: 0.2348 - val_acc: 0.9378\n",
      "Epoch 81/100\n",
      "16s - loss: 0.5494 - acc: 0.9076 - val_loss: 0.2343 - val_acc: 0.9377\n",
      "Epoch 82/100\n",
      "16s - loss: 0.5477 - acc: 0.9099 - val_loss: 0.2348 - val_acc: 0.9374\n",
      "Epoch 83/100\n",
      "16s - loss: 0.5462 - acc: 0.9096 - val_loss: 0.2346 - val_acc: 0.9383\n",
      "Epoch 84/100\n",
      "16s - loss: 0.5490 - acc: 0.9099 - val_loss: 0.2350 - val_acc: 0.9373\n",
      "Epoch 85/100\n",
      "16s - loss: 0.5448 - acc: 0.9105 - val_loss: 0.2345 - val_acc: 0.9371\n",
      "Epoch 86/100\n",
      "16s - loss: 0.5448 - acc: 0.9108 - val_loss: 0.2343 - val_acc: 0.9375\n",
      "Epoch 87/100\n",
      "16s - loss: 0.5488 - acc: 0.9088 - val_loss: 0.2344 - val_acc: 0.9376\n",
      "Epoch 88/100\n",
      "16s - loss: 0.5460 - acc: 0.9100 - val_loss: 0.2343 - val_acc: 0.9372\n",
      "Epoch 89/100\n",
      "16s - loss: 0.5426 - acc: 0.9099 - val_loss: 0.2345 - val_acc: 0.9378\n",
      "Epoch 90/100\n",
      "16s - loss: 0.5426 - acc: 0.9115 - val_loss: 0.2335 - val_acc: 0.9378\n",
      "Epoch 91/100\n",
      "16s - loss: 0.5463 - acc: 0.9106 - val_loss: 0.2336 - val_acc: 0.9377\n",
      "Epoch 92/100\n",
      "16s - loss: 0.5450 - acc: 0.9117 - val_loss: 0.2336 - val_acc: 0.9374\n",
      "Epoch 93/100\n",
      "16s - loss: 0.5436 - acc: 0.9112 - val_loss: 0.2338 - val_acc: 0.9370\n",
      "Epoch 94/100\n",
      "16s - loss: 0.5445 - acc: 0.9097 - val_loss: 0.2339 - val_acc: 0.9376\n",
      "Epoch 95/100\n",
      "16s - loss: 0.5438 - acc: 0.9090 - val_loss: 0.2334 - val_acc: 0.9385\n",
      "Epoch 96/100\n",
      "16s - loss: 0.5440 - acc: 0.9118 - val_loss: 0.2331 - val_acc: 0.9379\n",
      "Epoch 97/100\n",
      "16s - loss: 0.5475 - acc: 0.9104 - val_loss: 0.2335 - val_acc: 0.9377\n",
      "Epoch 98/100\n",
      "16s - loss: 0.5438 - acc: 0.9105 - val_loss: 0.2335 - val_acc: 0.9377\n",
      "Epoch 99/100\n",
      "16s - loss: 0.5450 - acc: 0.9093 - val_loss: 0.2334 - val_acc: 0.9374\n",
      "Epoch 100/100\n"
     ]
    },
    {
     "name": "stdout",
     "output_type": "stream",
     "text": [
      "16s - loss: 0.5418 - acc: 0.9111 - val_loss: 0.2338 - val_acc: 0.9381\n",
      "Test loss: 0.233751018703\n",
      "Test accuracy: 0.9381\n"
     ]
    }
   ],
   "source": [
    "hist_relu_mixup2=model.fit_generator(mix_data_gen(alpha=.4),\n",
    "          steps_per_epoch = x_train.shape[0]//128,\n",
    "          epochs=epochs,\n",
    "          verbose=2,\n",
    "          validation_data=(x_test, y_test), callbacks=[reduce_lr])\n",
    "score = model.evaluate(x_test, y_test, verbose=0)\n",
    "print('Test loss:', score[0])\n",
    "print('Test accuracy:', score[1])"
   ]
  },
  {
   "cell_type": "code",
   "execution_count": 37,
   "metadata": {
    "scrolled": true
   },
   "outputs": [
    {
     "name": "stdout",
     "output_type": "stream",
     "text": [
      "Epoch 1/50\n",
      "16s - loss: 0.5414 - acc: 0.9111 - val_loss: 0.2332 - val_acc: 0.9379\n",
      "Epoch 2/50\n",
      "16s - loss: 0.5424 - acc: 0.9080 - val_loss: 0.2325 - val_acc: 0.9378\n",
      "Epoch 3/50\n",
      "16s - loss: 0.5435 - acc: 0.9084 - val_loss: 0.2321 - val_acc: 0.9381\n",
      "Epoch 4/50\n",
      "16s - loss: 0.5408 - acc: 0.9115 - val_loss: 0.2333 - val_acc: 0.9374\n",
      "Epoch 5/50\n",
      "16s - loss: 0.5444 - acc: 0.9086 - val_loss: 0.2332 - val_acc: 0.9381\n",
      "Epoch 6/50\n",
      "16s - loss: 0.5457 - acc: 0.9103 - val_loss: 0.2333 - val_acc: 0.9381\n",
      "Epoch 7/50\n",
      "16s - loss: 0.5432 - acc: 0.9108 - val_loss: 0.2339 - val_acc: 0.9379\n",
      "Epoch 8/50\n",
      "16s - loss: 0.5401 - acc: 0.9109 - val_loss: 0.2328 - val_acc: 0.9379\n",
      "Epoch 9/50\n",
      "16s - loss: 0.5406 - acc: 0.9105 - val_loss: 0.2324 - val_acc: 0.9385\n",
      "Epoch 10/50\n",
      "16s - loss: 0.5409 - acc: 0.9109 - val_loss: 0.2328 - val_acc: 0.9378\n",
      "Epoch 11/50\n",
      "16s - loss: 0.5385 - acc: 0.9130 - val_loss: 0.2329 - val_acc: 0.9382\n",
      "Epoch 12/50\n",
      "16s - loss: 0.5407 - acc: 0.9123 - val_loss: 0.2323 - val_acc: 0.9383\n",
      "Epoch 13/50\n",
      "16s - loss: 0.5363 - acc: 0.9123 - val_loss: 0.2321 - val_acc: 0.9377\n",
      "Epoch 14/50\n",
      "16s - loss: 0.5387 - acc: 0.9121 - val_loss: 0.2329 - val_acc: 0.9381\n",
      "Epoch 15/50\n",
      "16s - loss: 0.5414 - acc: 0.9116 - val_loss: 0.2325 - val_acc: 0.9376\n",
      "Epoch 16/50\n",
      "16s - loss: 0.5414 - acc: 0.9114 - val_loss: 0.2323 - val_acc: 0.9370\n",
      "Epoch 17/50\n",
      "16s - loss: 0.5435 - acc: 0.9104 - val_loss: 0.2321 - val_acc: 0.9380\n",
      "Epoch 18/50\n",
      "16s - loss: 0.5398 - acc: 0.9102 - val_loss: 0.2328 - val_acc: 0.9373\n",
      "Epoch 19/50\n",
      "16s - loss: 0.5420 - acc: 0.9126 - val_loss: 0.2325 - val_acc: 0.9373\n",
      "Epoch 20/50\n",
      "16s - loss: 0.5341 - acc: 0.9133 - val_loss: 0.2320 - val_acc: 0.9371\n",
      "Epoch 21/50\n",
      "16s - loss: 0.5384 - acc: 0.9125 - val_loss: 0.2322 - val_acc: 0.9378\n",
      "Epoch 22/50\n",
      "16s - loss: 0.5388 - acc: 0.9098 - val_loss: 0.2323 - val_acc: 0.9370\n",
      "Epoch 23/50\n",
      "16s - loss: 0.5332 - acc: 0.9129 - val_loss: 0.2323 - val_acc: 0.9379\n",
      "Epoch 24/50\n",
      "16s - loss: 0.5380 - acc: 0.9104 - val_loss: 0.2319 - val_acc: 0.9368\n",
      "Epoch 25/50\n",
      "16s - loss: 0.5405 - acc: 0.9103 - val_loss: 0.2316 - val_acc: 0.9375\n",
      "Epoch 26/50\n",
      "16s - loss: 0.5400 - acc: 0.9115 - val_loss: 0.2313 - val_acc: 0.9374\n",
      "Epoch 27/50\n",
      "16s - loss: 0.5402 - acc: 0.9117 - val_loss: 0.2312 - val_acc: 0.9374\n",
      "Epoch 28/50\n",
      "16s - loss: 0.5410 - acc: 0.9092 - val_loss: 0.2317 - val_acc: 0.9379\n",
      "Epoch 29/50\n",
      "16s - loss: 0.5389 - acc: 0.9111 - val_loss: 0.2314 - val_acc: 0.9372\n",
      "Epoch 30/50\n",
      "16s - loss: 0.5401 - acc: 0.9096 - val_loss: 0.2316 - val_acc: 0.9381\n",
      "Epoch 31/50\n",
      "16s - loss: 0.5362 - acc: 0.9114 - val_loss: 0.2310 - val_acc: 0.9378\n",
      "Epoch 32/50\n",
      "16s - loss: 0.5400 - acc: 0.9123 - val_loss: 0.2314 - val_acc: 0.9369\n",
      "Epoch 33/50\n",
      "16s - loss: 0.5379 - acc: 0.9123 - val_loss: 0.2313 - val_acc: 0.9374\n",
      "Epoch 34/50\n",
      "16s - loss: 0.5408 - acc: 0.9104 - val_loss: 0.2323 - val_acc: 0.9371\n",
      "Epoch 35/50\n",
      "16s - loss: 0.5380 - acc: 0.9110 - val_loss: 0.2319 - val_acc: 0.9368\n",
      "Epoch 36/50\n",
      "16s - loss: 0.5384 - acc: 0.9113 - val_loss: 0.2320 - val_acc: 0.9378\n",
      "Epoch 37/50\n",
      "16s - loss: 0.5386 - acc: 0.9128 - val_loss: 0.2313 - val_acc: 0.9383\n",
      "Epoch 38/50\n",
      "16s - loss: 0.5345 - acc: 0.9127 - val_loss: 0.2306 - val_acc: 0.9377\n",
      "Epoch 39/50\n",
      "16s - loss: 0.5360 - acc: 0.9127 - val_loss: 0.2313 - val_acc: 0.9381\n",
      "Epoch 40/50\n",
      "16s - loss: 0.5345 - acc: 0.9127 - val_loss: 0.2314 - val_acc: 0.9377\n",
      "Epoch 41/50\n",
      "16s - loss: 0.5346 - acc: 0.9116 - val_loss: 0.2305 - val_acc: 0.9383\n",
      "Epoch 42/50\n",
      "16s - loss: 0.5387 - acc: 0.9123 - val_loss: 0.2304 - val_acc: 0.9381\n",
      "Epoch 43/50\n",
      "16s - loss: 0.5357 - acc: 0.9123 - val_loss: 0.2307 - val_acc: 0.9385\n",
      "Epoch 44/50\n",
      "16s - loss: 0.5360 - acc: 0.9111 - val_loss: 0.2308 - val_acc: 0.9391\n",
      "Epoch 45/50\n",
      "16s - loss: 0.5340 - acc: 0.9128 - val_loss: 0.2304 - val_acc: 0.9372\n",
      "Epoch 46/50\n",
      "16s - loss: 0.5354 - acc: 0.9116 - val_loss: 0.2305 - val_acc: 0.9384\n",
      "Epoch 47/50\n",
      "16s - loss: 0.5339 - acc: 0.9143 - val_loss: 0.2314 - val_acc: 0.9381\n",
      "Epoch 48/50\n",
      "16s - loss: 0.5337 - acc: 0.9117 - val_loss: 0.2306 - val_acc: 0.9371\n",
      "Epoch 49/50\n",
      "16s - loss: 0.5376 - acc: 0.9104 - val_loss: 0.2313 - val_acc: 0.9369\n",
      "Epoch 50/50\n",
      "16s - loss: 0.5327 - acc: 0.9114 - val_loss: 0.2298 - val_acc: 0.9366\n"
     ]
    }
   ],
   "source": [
    "hist_relu_mixup3=model.fit_generator(mix_data_gen(alpha=.4),\n",
    "          steps_per_epoch = x_train.shape[0]//128,\n",
    "          epochs=50,\n",
    "          verbose=2,\n",
    "          validation_data=(x_test, y_test), callbacks=[reduce_lr])\n",
    "\n",
    "extend_history(hist_relu_mixup2, hist_relu_mixup3)"
   ]
  },
  {
   "cell_type": "markdown",
   "metadata": {},
   "source": [
    "# Plot Figure"
   ]
  },
  {
   "cell_type": "code",
   "execution_count": 24,
   "metadata": {
    "collapsed": true
   },
   "outputs": [],
   "source": [
    "def plot_history(hists, attribute='val_loss', axis=(-1,41,0.85,0.94), loc='lower right'):\n",
    "    ylabel = {'oss': 'loss', 'acc': 'accuracy'}\n",
    "    title = {'val_loss': 'valid. loss', 'loss': 'trn. loss', 'val_acc': 'valid. accuracy', 'acc': 'trn. accuracy'}\n",
    "    num_hists = len(hists)\n",
    "    \n",
    "    plt.figure(figsize=(6, 4))  \n",
    "    plt.axis(axis)\n",
    "    for i in range(num_hists):\n",
    "        plt.plot(hists[i].history[attribute])\n",
    "    plt.title(title[attribute])  \n",
    "    plt.ylabel(ylabel[attribute[-3:]])  \n",
    "    plt.xlabel('epoch')  \n",
    "    plt.legend(['Default', 'Mixup, alpha=0.1', \"Mixup, alpha=0.4\"], loc=loc)  \n",
    "\n",
    "    plt.show()"
   ]
  },
  {
   "cell_type": "code",
   "execution_count": 25,
   "metadata": {
    "collapsed": true
   },
   "outputs": [],
   "source": [
    "hists = [hist_relu, hist_relu_mixup, hist_relu_mixup2]"
   ]
  },
  {
   "cell_type": "code",
   "execution_count": 36,
   "metadata": {},
   "outputs": [
    {
     "data": {
      "image/png": "[encoded data removed]",
      "text/plain": [
       "<matplotlib.figure.Figure at 0x7f434877c470>"
      ]
     },
     "metadata": {},
     "output_type": "display_data"
    }
   ],
   "source": [
    "plot_history(hists, attribute='val_acc', axis=(-1,101,0.9,0.942), loc='lower right')"
   ]
  },
  {
   "cell_type": "code",
   "execution_count": 32,
   "metadata": {},
   "outputs": [
    {
     "data": {
      "image/png": "[encoded data removed]",
      "text/plain": [
       "<matplotlib.figure.Figure at 0x7f43581334e0>"
      ]
     },
     "metadata": {},
     "output_type": "display_data"
    }
   ],
   "source": [
    "plot_history(hists, attribute='acc', axis=(-1,101,0.85,0.998), loc='lower right')"
   ]
  },
  {
   "cell_type": "code",
   "execution_count": 28,
   "metadata": {},
   "outputs": [
    {
     "data": {
      "image/png": "[encoded data removed]",
      "text/plain": [
       "<matplotlib.figure.Figure at 0x7f43583392b0>"
      ]
     },
     "metadata": {},
     "output_type": "display_data"
    }
   ],
   "source": [
    "plot_history(hists, attribute='val_loss', axis=(-1,101,0.22,0.5), loc='upper right')"
   ]
  },
  {
   "cell_type": "code",
   "execution_count": 35,
   "metadata": {},
   "outputs": [
    {
     "data": {
      "image/png": "[encoded data removed]",
      "text/plain": [
       "<matplotlib.figure.Figure at 0x7f4348770940>"
      ]
     },
     "metadata": {},
     "output_type": "display_data"
    }
   ],
   "source": [
    "plot_history(hists, attribute='loss', axis=(-1,101,0.06,0.8), loc='upper right')"
   ]
  },
  {
   "cell_type": "code",
   "execution_count": null,
   "metadata": {
    "collapsed": true
   },
   "outputs": [],
   "source": []
  }
 ],
 "metadata": {
  "kernelspec": {
   "display_name": "Neptune",
   "language": "",
   "name": "neptune-kernel"
  },
  "language_info": {
   "codemirror_mode": {
    "name": "ipython",
    "version": 3
   },
   "file_extension": ".py",
   "mimetype": "text/x-python",
   "name": "python",
   "nbconvert_exporter": "python",
   "pygments_lexer": "ipython3",
   "version": "3.5.2"
  }
 },
 "nbformat": 4,
 "nbformat_minor": 2
}
