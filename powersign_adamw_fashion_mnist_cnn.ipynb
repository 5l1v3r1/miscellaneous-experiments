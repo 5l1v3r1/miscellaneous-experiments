{
 "cells": [
  {
   "cell_type": "markdown",
   "metadata": {},
   "source": [
    "# Download Fashion-MNIST"
   ]
  },
  {
   "cell_type": "code",
   "execution_count": 1,
   "metadata": {
    "collapsed": true
   },
   "outputs": [],
   "source": [
    "!mkdir -p ./data/fashion"
   ]
  },
  {
   "cell_type": "code",
   "execution_count": 2,
   "metadata": {},
   "outputs": [
    {
     "name": "stdout",
     "output_type": "stream",
     "text": [
      "  % Total    % Received % Xferd  Average Speed   Time    Time     Time  Current\n",
      "                                 Dload  Upload   Total   Spent    Left  Speed\n",
      "100 25.1M  100 25.1M    0     0  24.1M      0  0:00:01  0:00:01 --:--:-- 24.2M\n"
     ]
    }
   ],
   "source": [
    "!curl -L http://fashion-mnist.s3-website.eu-central-1.amazonaws.com/train-images-idx3-ubyte.gz -o ./data/fashion/train-images-idx3-ubyte.gz"
   ]
  },
  {
   "cell_type": "code",
   "execution_count": 3,
   "metadata": {
    "scrolled": true
   },
   "outputs": [
    {
     "name": "stdout",
     "output_type": "stream",
     "text": [
      "  % Total    % Received % Xferd  Average Speed   Time    Time     Time  Current\n",
      "                                 Dload  Upload   Total   Spent    Left  Speed\n",
      "100 29515  100 29515    0     0   222k      0 --:--:-- --:--:-- --:--:--  223k\n",
      "  % Total    % Received % Xferd  Average Speed   Time    Time     Time  Current\n",
      "                                 Dload  Upload   Total   Spent    Left  Speed\n",
      "100 4318k  100 4318k    0     0  6191k      0 --:--:-- --:--:-- --:--:-- 6186k\n",
      "  % Total    % Received % Xferd  Average Speed   Time    Time     Time  Current\n",
      "                                 Dload  Upload   Total   Spent    Left  Speed\n",
      "100  5148  100  5148    0     0  57782      0 --:--:-- --:--:-- --:--:-- 57842\n"
     ]
    }
   ],
   "source": [
    "!curl -L http://fashion-mnist.s3-website.eu-central-1.amazonaws.com/train-labels-idx1-ubyte.gz -o ./data/fashion/train-labels-idx1-ubyte.gz\n",
    "!curl -L http://fashion-mnist.s3-website.eu-central-1.amazonaws.com/t10k-images-idx3-ubyte.gz -o ./data/fashion/t10k-images-idx3-ubyte.gz\n",
    "!curl -L http://fashion-mnist.s3-website.eu-central-1.amazonaws.com/t10k-labels-idx1-ubyte.gz -o ./data/fashion/t10k-labels-idx1-ubyte.gz"
   ]
  },
  {
   "cell_type": "markdown",
   "metadata": {},
   "source": [
    "# Load Data"
   ]
  },
  {
   "cell_type": "code",
   "execution_count": 4,
   "metadata": {},
   "outputs": [
    {
     "name": "stdout",
     "output_type": "stream",
     "text": [
      "  % Total    % Received % Xferd  Average Speed   Time    Time     Time  Current\n",
      "                                 Dload  Upload   Total   Spent    Left  Speed\n",
      "100   756  100   756    0     0   1664      0 --:--:-- --:--:-- --:--:--  1661\n"
     ]
    }
   ],
   "source": [
    "!mkdir ./utils\n",
    "!curl https://raw.githubusercontent.com/zalandoresearch/fashion-mnist/master/utils/mnist_reader.py -o ./utils/mnist_reader.py"
   ]
  },
  {
   "cell_type": "code",
   "execution_count": 5,
   "metadata": {
    "collapsed": true
   },
   "outputs": [],
   "source": [
    "from utils import mnist_reader\n",
    "x_train, y_train = mnist_reader.load_mnist('./data/fashion', kind='train')\n",
    "x_test, y_test = mnist_reader.load_mnist('./data/fashion', kind='t10k')"
   ]
  },
  {
   "cell_type": "markdown",
   "metadata": {},
   "source": [
    "# Import Package"
   ]
  },
  {
   "cell_type": "code",
   "execution_count": 6,
   "metadata": {},
   "outputs": [
    {
     "name": "stderr",
     "output_type": "stream",
     "text": [
      "Using TensorFlow backend.\n"
     ]
    }
   ],
   "source": [
    "from __future__ import print_function\n",
    "import keras\n",
    "from keras.datasets import mnist\n",
    "from keras.models import Sequential\n",
    "from keras.layers import Dense, Dropout, Flatten\n",
    "from keras.layers import Conv2D, MaxPooling2D\n",
    "from keras import backend as K\n",
    "\n",
    "import tensorflow  as tf\n",
    "from keras.layers import *"
   ]
  },
  {
   "cell_type": "code",
   "execution_count": 7,
   "metadata": {
    "collapsed": true
   },
   "outputs": [],
   "source": [
    "from keras.callbacks import ReduceLROnPlateau"
   ]
  },
  {
   "cell_type": "markdown",
   "metadata": {},
   "source": [
    "# Config"
   ]
  },
  {
   "cell_type": "code",
   "execution_count": 11,
   "metadata": {
    "collapsed": true
   },
   "outputs": [],
   "source": [
    "# input image dimensions\n",
    "img_rows, img_cols = 28, 28\n",
    "\n",
    "batch_size = 128\n",
    "num_classes = 10\n",
    "epochs = 40\n",
    "w_l2 = 1e-5"
   ]
  },
  {
   "cell_type": "code",
   "execution_count": 12,
   "metadata": {
    "collapsed": true
   },
   "outputs": [],
   "source": [
    "reduce_lr = ReduceLROnPlateau(monitor='val_loss', factor=0.2, patience=5, min_lr=1e-5)"
   ]
  },
  {
   "cell_type": "code",
   "execution_count": 13,
   "metadata": {},
   "outputs": [
    {
     "name": "stdout",
     "output_type": "stream",
     "text": [
      "x_train shape: (60000, 28, 28, 1)\n",
      "60000 train samples\n",
      "10000 test samples\n"
     ]
    }
   ],
   "source": [
    "if K.image_data_format() == 'channels_first':\n",
    "    x_train = x_train.reshape(x_train.shape[0], 1, img_rows, img_cols)\n",
    "    x_test = x_test.reshape(x_test.shape[0], 1, img_rows, img_cols)\n",
    "    input_shape = (1, img_rows, img_cols)\n",
    "else:\n",
    "    x_train = x_train.reshape(x_train.shape[0], img_rows, img_cols, 1)\n",
    "    x_test = x_test.reshape(x_test.shape[0], img_rows, img_cols, 1)\n",
    "    input_shape = (img_rows, img_cols, 1)\n",
    "\n",
    "x_train = x_train.astype('float32')\n",
    "x_test = x_test.astype('float32')\n",
    "x_train /= 255\n",
    "x_test /= 255\n",
    "print('x_train shape:', x_train.shape)\n",
    "print(x_train.shape[0], 'train samples')\n",
    "print(x_test.shape[0], 'test samples')\n",
    "\n",
    "# convert class vectors to binary class matrices\n",
    "y_train = keras.utils.to_categorical(y_train, num_classes)\n",
    "y_test = keras.utils.to_categorical(y_test, num_classes)"
   ]
  },
  {
   "cell_type": "code",
   "execution_count": null,
   "metadata": {
    "collapsed": true
   },
   "outputs": [],
   "source": []
  },
  {
   "cell_type": "code",
   "execution_count": null,
   "metadata": {
    "collapsed": true
   },
   "outputs": [],
   "source": []
  },
  {
   "cell_type": "code",
   "execution_count": 25,
   "metadata": {
    "collapsed": true
   },
   "outputs": [],
   "source": [
    "from keras.optimizers import Optimizer\n",
    "from keras import backend as K\n",
    "import six\n",
    "import copy\n",
    "from six.moves import zip\n",
    "from keras.utils.generic_utils import serialize_keras_object\n",
    "from keras.utils.generic_utils import deserialize_keras_object\n",
    "from keras.legacy import interfaces\n",
    "\n",
    "class PowerSign(Optimizer):\n",
    "    \"\"\"Adam optimizer.\n",
    "    Default parameters follow those provided in the original paper.\n",
    "    # Arguments\n",
    "        lr: float >= 0. Learning rate.\n",
    "        beta_1: float, 0 < beta < 1. Generally close to 1.\n",
    "        beta_2: float, 0 < beta < 1. Generally close to 1.\n",
    "        epsilon: float >= 0. Fuzz factor.\n",
    "        decay: float >= 0. Learning rate decay over each update.\n",
    "        weight_decay: float >= 0. Decoupled weight decay over each update.\n",
    "    # References\n",
    "        - [Adam - A Method for Stochastic Optimization](http://arxiv.org/abs/1412.6980v8)\n",
    "        - [Optimization for Deep Learning Highlights in 2017](http://ruder.io/deep-learning-optimization-2017/index.html)\n",
    "        - [Fixing Weight Decay Regularization in Adam](https://arxiv.org/abs/1711.05101)\n",
    "    \"\"\"\n",
    "\n",
    "    def __init__(self, lr=0.001, beta_1=0.9, beta_2=0.999, weight_decay=0,  # decoupled weight decay (1/4)\n",
    "                 epsilon=1e-8, decay=0., **kwargs):\n",
    "        super(PowerSign, self).__init__(**kwargs)\n",
    "        with K.name_scope(self.__class__.__name__):\n",
    "            self.iterations = K.variable(0, dtype='int64', name='iterations')\n",
    "            self.lr = K.variable(lr, name='lr')\n",
    "            self.beta_1 = K.variable(beta_1, name='beta_1')\n",
    "            self.beta_2 = K.variable(beta_2, name='beta_2')\n",
    "            self.decay = K.variable(decay, name='decay')\n",
    "            self.wd = K.variable(weight_decay, name='weight_decay') # decoupled weight decay (2/4)\n",
    "        self.epsilon = epsilon\n",
    "        self.initial_decay = decay\n",
    "\n",
    "    #@interfaces.legacy_get_updates_support\n",
    "    #def get_updates(self, loss, params):\n",
    "    def get_updates(self, params, constraints, loss):\n",
    "        grads = self.get_gradients(loss, params)\n",
    "        self.updates = [K.update_add(self.iterations, 1)]\n",
    "        wd = self.wd # decoupled weight decay (3/4)\n",
    "\n",
    "        lr = self.lr\n",
    "        if self.initial_decay > 0:\n",
    "            lr *= (1. / (1. + self.decay * K.cast(self.iterations,\n",
    "                                                  K.dtype(self.decay))))\n",
    "\n",
    "        t = K.cast(self.iterations, K.floatx()) + 1\n",
    "        lr_t = lr * (K.sqrt(1. - K.pow(self.beta_2, t)) /\n",
    "                     (1. - K.pow(self.beta_1, t)))\n",
    "\n",
    "        ms = [K.zeros(K.int_shape(p), dtype=K.dtype(p)) for p in params]\n",
    "        vs = [K.zeros(K.int_shape(p), dtype=K.dtype(p)) for p in params]\n",
    "        self.weights = [self.iterations] + ms + vs\n",
    "\n",
    "        for p, g, m, v in zip(params, grads, ms, vs):\n",
    "            m_t = (self.beta_1 * m) + (1. - self.beta_1) * g\n",
    "            v_t = (self.beta_2 * v) + (1. - self.beta_2) * K.square(g)\n",
    "            #p_t = p - lr_t * m_t / (K.sqrt(v_t) + self.epsilon) - lr * wd * p # decoupled weight decay (4/4)\n",
    "            p_t = p - K.exp(K.sign(g) * K.sign(m_t)) * g - lr * wd * p\n",
    "\n",
    "            self.updates.append(K.update(m, m_t))\n",
    "            self.updates.append(K.update(v, v_t))\n",
    "            new_p = p_t\n",
    "\n",
    "            # apply constraints\n",
    "            if p in constraints:\n",
    "                c = constraints[p]\n",
    "                new_p = c(new_p)\n",
    "\n",
    "            self.updates.append(K.update(p, new_p))\n",
    "        return self.updates\n",
    "\n",
    "    def get_config(self):\n",
    "        config = {'lr': float(K.get_value(self.lr)),\n",
    "                  'beta_1': float(K.get_value(self.beta_1)),\n",
    "                  'beta_2': float(K.get_value(self.beta_2)),\n",
    "                  'decay': float(K.get_value(self.decay)),\n",
    "                  'weight_decay': float(K.get_value(self.wd)),\n",
    "                  'epsilon': self.epsilon}\n",
    "        base_config = super(PowerSign, self).get_config()\n",
    "        return dict(list(base_config.items()) + list(config.items()))"
   ]
  },
  {
   "cell_type": "code",
   "execution_count": 32,
   "metadata": {
    "collapsed": true
   },
   "outputs": [],
   "source": [
    "from keras.optimizers import Optimizer\n",
    "from keras import backend as K\n",
    "import six\n",
    "import copy\n",
    "from six.moves import zip\n",
    "from keras.utils.generic_utils import serialize_keras_object\n",
    "from keras.utils.generic_utils import deserialize_keras_object\n",
    "from keras.legacy import interfaces\n",
    "\n",
    "class AdamW(Optimizer):\n",
    "    \"\"\"Adam optimizer.\n",
    "    Default parameters follow those provided in the original paper.\n",
    "    # Arguments\n",
    "        lr: float >= 0. Learning rate.\n",
    "        beta_1: float, 0 < beta < 1. Generally close to 1.\n",
    "        beta_2: float, 0 < beta < 1. Generally close to 1.\n",
    "        epsilon: float >= 0. Fuzz factor.\n",
    "        decay: float >= 0. Learning rate decay over each update.\n",
    "        weight_decay: float >= 0. Decoupled weight decay over each update.\n",
    "    # References\n",
    "        - [Adam - A Method for Stochastic Optimization](http://arxiv.org/abs/1412.6980v8)\n",
    "        - [Optimization for Deep Learning Highlights in 2017](http://ruder.io/deep-learning-optimization-2017/index.html)\n",
    "        - [Fixing Weight Decay Regularization in Adam](https://arxiv.org/abs/1711.05101)\n",
    "    \"\"\"\n",
    "\n",
    "    def __init__(self, lr=0.001, beta_1=0.9, beta_2=0.999, weight_decay=0,  # decoupled weight decay (1/4)\n",
    "                 epsilon=1e-8, decay=0., **kwargs):\n",
    "        super(AdamW, self).__init__(**kwargs)\n",
    "        with K.name_scope(self.__class__.__name__):\n",
    "            self.iterations = K.variable(0, dtype='int64', name='iterations')\n",
    "            self.lr = K.variable(lr, name='lr')\n",
    "            self.beta_1 = K.variable(beta_1, name='beta_1')\n",
    "            self.beta_2 = K.variable(beta_2, name='beta_2')\n",
    "            self.decay = K.variable(decay, name='decay')\n",
    "            self.wd = K.variable(weight_decay, name='weight_decay') # decoupled weight decay (2/4)\n",
    "        self.epsilon = epsilon\n",
    "        self.initial_decay = decay\n",
    "\n",
    "    #@interfaces.legacy_get_updates_support\n",
    "    #def get_updates(self, loss, params):\n",
    "    def get_updates(self, params, constraints, loss):\n",
    "        grads = self.get_gradients(loss, params)\n",
    "        self.updates = [K.update_add(self.iterations, 1)]\n",
    "        wd = self.wd # decoupled weight decay (3/4)\n",
    "\n",
    "        lr = self.lr\n",
    "        if self.initial_decay > 0:\n",
    "            lr *= (1. / (1. + self.decay * K.cast(self.iterations,\n",
    "                                                  K.dtype(self.decay))))\n",
    "\n",
    "        t = K.cast(self.iterations, K.floatx()) + 1\n",
    "        lr_t = lr * (K.sqrt(1. - K.pow(self.beta_2, t)) /\n",
    "                     (1. - K.pow(self.beta_1, t)))\n",
    "\n",
    "        ms = [K.zeros(K.int_shape(p), dtype=K.dtype(p)) for p in params]\n",
    "        vs = [K.zeros(K.int_shape(p), dtype=K.dtype(p)) for p in params]\n",
    "        self.weights = [self.iterations] + ms + vs\n",
    "\n",
    "        for p, g, m, v in zip(params, grads, ms, vs):\n",
    "            m_t = (self.beta_1 * m) + (1. - self.beta_1) * g\n",
    "            v_t = (self.beta_2 * v) + (1. - self.beta_2) * K.square(g)\n",
    "            p_t = p - lr_t * m_t / (K.sqrt(v_t) + self.epsilon) - lr * wd * p # decoupled weight decay (4/4)\n",
    "\n",
    "            self.updates.append(K.update(m, m_t))\n",
    "            self.updates.append(K.update(v, v_t))\n",
    "            new_p = p_t\n",
    "\n",
    "            # apply constraints\n",
    "            if p in constraints:\n",
    "                c = constraints[p]\n",
    "                new_p = c(new_p)\n",
    "\n",
    "            self.updates.append(K.update(p, new_p))\n",
    "        return self.updates\n",
    "\n",
    "    def get_config(self):\n",
    "        config = {'lr': float(K.get_value(self.lr)),\n",
    "                  'beta_1': float(K.get_value(self.beta_1)),\n",
    "                  'beta_2': float(K.get_value(self.beta_2)),\n",
    "                  'decay': float(K.get_value(self.decay)),\n",
    "                  'weight_decay': float(K.get_value(self.wd)),\n",
    "                  'epsilon': self.epsilon}\n",
    "        base_config = super(AdamW, self).get_config()\n",
    "        return dict(list(base_config.items()) + list(config.items()))"
   ]
  },
  {
   "cell_type": "code",
   "execution_count": null,
   "metadata": {
    "collapsed": true
   },
   "outputs": [],
   "source": []
  },
  {
   "cell_type": "code",
   "execution_count": null,
   "metadata": {
    "collapsed": true
   },
   "outputs": [],
   "source": []
  },
  {
   "cell_type": "markdown",
   "metadata": {},
   "source": [
    "# 1. PowerSign w/ decoupled weight decay (0.03)"
   ]
  },
  {
   "cell_type": "code",
   "execution_count": 43,
   "metadata": {},
   "outputs": [],
   "source": [
    "# input image dimensions\n",
    "img_rows, img_cols = 28, 28\n",
    "\n",
    "model = Sequential()\n",
    "model.add(Conv2D(32, kernel_size=(3, 3), kernel_initializer='he_normal', input_shape=input_shape))\n",
    "model.add(BatchNormalization())\n",
    "model.add(Activation('relu'))\n",
    "model.add(Conv2D(64, (3, 3), kernel_initializer='he_normal'))\n",
    "model.add(BatchNormalization())\n",
    "model.add(Activation('relu'))\n",
    "model.add(MaxPooling2D(pool_size=(2, 2)))\n",
    "model.add(Dropout(0.25))\n",
    "model.add(Flatten())\n",
    "model.add(Dense(128, kernel_initializer='he_normal'))\n",
    "model.add(BatchNormalization())\n",
    "model.add(Activation('relu'))\n",
    "model.add(Dropout(0.5))\n",
    "model.add(Dense(num_classes, activation='softmax'))\n",
    "\n",
    "model.compile(loss=keras.losses.categorical_crossentropy,\n",
    "              optimizer=PowerSign(weight_decay=.1),\n",
    "              metrics=['accuracy'])\n"
   ]
  },
  {
   "cell_type": "code",
   "execution_count": 44,
   "metadata": {
    "scrolled": true
   },
   "outputs": [
    {
     "name": "stdout",
     "output_type": "stream",
     "text": [
      "Train on 60000 samples, validate on 10000 samples\n",
      "Epoch 1/40\n",
      "60000/60000 [==============================] - 16s - loss: 0.5767 - acc: 0.7988 - val_loss: 0.3585 - val_acc: 0.8706\n",
      "Epoch 2/40\n",
      "60000/60000 [==============================] - 16s - loss: 0.3954 - acc: 0.8587 - val_loss: 0.3160 - val_acc: 0.8742\n",
      "Epoch 3/40\n",
      "60000/60000 [==============================] - 16s - loss: 0.3465 - acc: 0.8751 - val_loss: 0.3444 - val_acc: 0.8694\n",
      "Epoch 4/40\n",
      "60000/60000 [==============================] - 16s - loss: 0.3128 - acc: 0.8876 - val_loss: 0.2687 - val_acc: 0.9045\n",
      "Epoch 5/40\n",
      "60000/60000 [==============================] - 16s - loss: 0.2945 - acc: 0.8939 - val_loss: 0.2725 - val_acc: 0.9000\n",
      "Epoch 6/40\n",
      "60000/60000 [==============================] - 16s - loss: 0.2816 - acc: 0.8982 - val_loss: 0.2841 - val_acc: 0.8933\n",
      "Epoch 7/40\n",
      "60000/60000 [==============================] - 16s - loss: 0.2723 - acc: 0.9020 - val_loss: 0.3005 - val_acc: 0.8972\n",
      "Epoch 8/40\n",
      "60000/60000 [==============================] - 15s - loss: 0.2596 - acc: 0.9054 - val_loss: 0.2570 - val_acc: 0.9110\n",
      "Epoch 9/40\n",
      "60000/60000 [==============================] - 15s - loss: 0.2498 - acc: 0.9086 - val_loss: 0.2434 - val_acc: 0.9172\n",
      "Epoch 10/40\n",
      "60000/60000 [==============================] - 15s - loss: 0.2393 - acc: 0.9120 - val_loss: 0.3121 - val_acc: 0.8859\n",
      "Epoch 11/40\n",
      "60000/60000 [==============================] - 16s - loss: 0.2330 - acc: 0.9144 - val_loss: 0.2616 - val_acc: 0.9081\n",
      "Epoch 12/40\n",
      "60000/60000 [==============================] - 16s - loss: 0.2270 - acc: 0.9172 - val_loss: 0.2942 - val_acc: 0.9080\n",
      "Epoch 13/40\n",
      "60000/60000 [==============================] - 15s - loss: 0.2172 - acc: 0.9199 - val_loss: 0.2564 - val_acc: 0.9125\n",
      "Epoch 14/40\n",
      "60000/60000 [==============================] - 15s - loss: 0.2091 - acc: 0.9233 - val_loss: 0.2538 - val_acc: 0.9188\n",
      "Epoch 15/40\n",
      "60000/60000 [==============================] - 16s - loss: 0.2053 - acc: 0.9249 - val_loss: 0.2576 - val_acc: 0.9154\n",
      "Epoch 16/40\n",
      "60000/60000 [==============================] - 16s - loss: 0.1981 - acc: 0.9260 - val_loss: 0.2695 - val_acc: 0.9076\n",
      "Epoch 17/40\n",
      "60000/60000 [==============================] - 15s - loss: 0.1933 - acc: 0.9285 - val_loss: 0.2495 - val_acc: 0.9150\n",
      "Epoch 18/40\n",
      "60000/60000 [==============================] - 15s - loss: 0.1855 - acc: 0.9308 - val_loss: 0.2511 - val_acc: 0.9193\n",
      "Epoch 19/40\n",
      "60000/60000 [==============================] - 16s - loss: 0.1849 - acc: 0.9309 - val_loss: 0.2426 - val_acc: 0.9221\n",
      "Epoch 20/40\n",
      "60000/60000 [==============================] - 16s - loss: 0.1826 - acc: 0.9327 - val_loss: 0.2512 - val_acc: 0.9206\n",
      "Epoch 21/40\n",
      "60000/60000 [==============================] - 16s - loss: 0.1749 - acc: 0.9345 - val_loss: 0.2570 - val_acc: 0.9180\n",
      "Epoch 22/40\n",
      "60000/60000 [==============================] - 16s - loss: 0.1731 - acc: 0.9366 - val_loss: 0.2538 - val_acc: 0.9237\n",
      "Epoch 23/40\n",
      "60000/60000 [==============================] - 16s - loss: 0.1673 - acc: 0.9380 - val_loss: 0.2542 - val_acc: 0.9203\n",
      "Epoch 24/40\n",
      "60000/60000 [==============================] - 16s - loss: 0.1644 - acc: 0.9392 - val_loss: 0.2627 - val_acc: 0.9167\n",
      "Epoch 25/40\n",
      "60000/60000 [==============================] - 16s - loss: 0.1642 - acc: 0.9385 - val_loss: 0.2776 - val_acc: 0.9210\n",
      "Epoch 26/40\n",
      "60000/60000 [==============================] - 16s - loss: 0.1578 - acc: 0.9417 - val_loss: 0.2606 - val_acc: 0.9241\n",
      "Epoch 27/40\n",
      "60000/60000 [==============================] - 16s - loss: 0.1510 - acc: 0.9436 - val_loss: 0.2814 - val_acc: 0.9226\n",
      "Epoch 28/40\n",
      "60000/60000 [==============================] - 16s - loss: 0.1458 - acc: 0.9448 - val_loss: 0.2550 - val_acc: 0.9250\n",
      "Epoch 29/40\n",
      "60000/60000 [==============================] - 16s - loss: 0.1434 - acc: 0.9451 - val_loss: 0.2624 - val_acc: 0.9124\n",
      "Epoch 30/40\n",
      "60000/60000 [==============================] - 16s - loss: 0.1427 - acc: 0.9464 - val_loss: 0.2588 - val_acc: 0.9256\n",
      "Epoch 31/40\n",
      "60000/60000 [==============================] - 16s - loss: 0.1385 - acc: 0.9483 - val_loss: 0.2853 - val_acc: 0.9264\n",
      "Epoch 32/40\n",
      "60000/60000 [==============================] - 16s - loss: 0.1383 - acc: 0.9488 - val_loss: 0.2495 - val_acc: 0.9262\n",
      "Epoch 33/40\n",
      "60000/60000 [==============================] - 16s - loss: 0.1330 - acc: 0.9508 - val_loss: 0.2578 - val_acc: 0.9223\n",
      "Epoch 34/40\n",
      "60000/60000 [==============================] - 16s - loss: 0.1312 - acc: 0.9508 - val_loss: 0.2626 - val_acc: 0.9269\n",
      "Epoch 35/40\n",
      "60000/60000 [==============================] - 16s - loss: 0.1285 - acc: 0.9523 - val_loss: 0.2598 - val_acc: 0.9281\n",
      "Epoch 36/40\n",
      "60000/60000 [==============================] - 16s - loss: 0.1226 - acc: 0.9528 - val_loss: 0.2800 - val_acc: 0.9262\n",
      "Epoch 37/40\n",
      "60000/60000 [==============================] - 16s - loss: 0.1209 - acc: 0.9543 - val_loss: 0.2836 - val_acc: 0.9288\n",
      "Epoch 38/40\n",
      "60000/60000 [==============================] - 16s - loss: 0.1193 - acc: 0.9547 - val_loss: 0.2964 - val_acc: 0.9254\n",
      "Epoch 39/40\n",
      "60000/60000 [==============================] - 15s - loss: 0.1140 - acc: 0.9578 - val_loss: 0.2677 - val_acc: 0.9227\n",
      "Epoch 40/40\n",
      "60000/60000 [==============================] - 16s - loss: 0.1226 - acc: 0.9546 - val_loss: 0.2690 - val_acc: 0.9280\n",
      "Test loss: 0.269045224512\n",
      "Test accuracy: 0.928\n"
     ]
    }
   ],
   "source": [
    "hist0=model.fit(x_train, y_train,\n",
    "          batch_size=batch_size,\n",
    "          epochs=epochs,\n",
    "          verbose=1,\n",
    "          validation_data=(x_test, y_test), callbacks=[reduce_lr])\n",
    "score = model.evaluate(x_test, y_test, verbose=0)\n",
    "print('Test loss:', score[0])\n",
    "print('Test accuracy:', score[1])"
   ]
  },
  {
   "cell_type": "code",
   "execution_count": null,
   "metadata": {
    "collapsed": true
   },
   "outputs": [],
   "source": []
  },
  {
   "cell_type": "markdown",
   "metadata": {},
   "source": [
    "# 2. AdamW, decoupled weight decay (0.1)"
   ]
  },
  {
   "cell_type": "code",
   "execution_count": 33,
   "metadata": {},
   "outputs": [],
   "source": [
    "# input image dimensions\n",
    "img_rows, img_cols = 28, 28\n",
    "\n",
    "model = Sequential()\n",
    "model.add(Conv2D(32, kernel_size=(3, 3), kernel_initializer='he_normal', input_shape=input_shape))\n",
    "model.add(BatchNormalization())\n",
    "model.add(Activation('relu'))\n",
    "model.add(Conv2D(64, (3, 3), kernel_initializer='he_normal'))\n",
    "model.add(BatchNormalization())\n",
    "model.add(Activation('relu'))\n",
    "model.add(MaxPooling2D(pool_size=(2, 2)))\n",
    "model.add(Dropout(0.25))\n",
    "model.add(Flatten())\n",
    "model.add(Dense(128, kernel_initializer='he_normal'))\n",
    "model.add(BatchNormalization())\n",
    "model.add(Activation('relu'))\n",
    "model.add(Dropout(0.5))\n",
    "model.add(Dense(num_classes, activation='softmax'))\n",
    "\n",
    "model.compile(loss=keras.losses.categorical_crossentropy,\n",
    "              optimizer=AdamW(weight_decay=.1),\n",
    "              metrics=['accuracy'])\n"
   ]
  },
  {
   "cell_type": "code",
   "execution_count": 34,
   "metadata": {
    "scrolled": true
   },
   "outputs": [
    {
     "name": "stdout",
     "output_type": "stream",
     "text": [
      "Train on 60000 samples, validate on 10000 samples\n",
      "Epoch 1/40\n",
      "60000/60000 [==============================] - 16s - loss: 0.4383 - acc: 0.8473 - val_loss: 0.3125 - val_acc: 0.8850\n",
      "Epoch 2/40\n",
      "60000/60000 [==============================] - 16s - loss: 0.2900 - acc: 0.8974 - val_loss: 0.2825 - val_acc: 0.8912\n",
      "Epoch 3/40\n",
      "60000/60000 [==============================] - 16s - loss: 0.2489 - acc: 0.9120 - val_loss: 0.2397 - val_acc: 0.9116\n",
      "Epoch 4/40\n",
      "60000/60000 [==============================] - 16s - loss: 0.2224 - acc: 0.9199 - val_loss: 0.2607 - val_acc: 0.9034\n",
      "Epoch 5/40\n",
      "60000/60000 [==============================] - 16s - loss: 0.1992 - acc: 0.9285 - val_loss: 0.2309 - val_acc: 0.9192\n",
      "Epoch 6/40\n",
      "60000/60000 [==============================] - 16s - loss: 0.1819 - acc: 0.9349 - val_loss: 0.2150 - val_acc: 0.9204\n",
      "Epoch 7/40\n",
      "60000/60000 [==============================] - 16s - loss: 0.1693 - acc: 0.9389 - val_loss: 0.2080 - val_acc: 0.9235\n",
      "Epoch 8/40\n",
      "60000/60000 [==============================] - 15s - loss: 0.1568 - acc: 0.9441 - val_loss: 0.2072 - val_acc: 0.9240\n",
      "Epoch 9/40\n",
      "60000/60000 [==============================] - 15s - loss: 0.1487 - acc: 0.9454 - val_loss: 0.2225 - val_acc: 0.9187\n",
      "Epoch 10/40\n",
      "60000/60000 [==============================] - 15s - loss: 0.1360 - acc: 0.9508 - val_loss: 0.2021 - val_acc: 0.9282\n",
      "Epoch 11/40\n",
      "60000/60000 [==============================] - 16s - loss: 0.1307 - acc: 0.9531 - val_loss: 0.2077 - val_acc: 0.9251\n",
      "Epoch 12/40\n",
      "60000/60000 [==============================] - 15s - loss: 0.1211 - acc: 0.9566 - val_loss: 0.1963 - val_acc: 0.9291\n",
      "Epoch 13/40\n",
      "60000/60000 [==============================] - 16s - loss: 0.1165 - acc: 0.9588 - val_loss: 0.2327 - val_acc: 0.9182\n",
      "Epoch 14/40\n",
      "60000/60000 [==============================] - 16s - loss: 0.1116 - acc: 0.9597 - val_loss: 0.2234 - val_acc: 0.9219\n",
      "Epoch 15/40\n",
      "60000/60000 [==============================] - 15s - loss: 0.1074 - acc: 0.9608 - val_loss: 0.2288 - val_acc: 0.9230\n",
      "Epoch 16/40\n",
      "60000/60000 [==============================] - 15s - loss: 0.1018 - acc: 0.9638 - val_loss: 0.2129 - val_acc: 0.9258\n",
      "Epoch 17/40\n",
      "60000/60000 [==============================] - 16s - loss: 0.0966 - acc: 0.9655 - val_loss: 0.2305 - val_acc: 0.9206\n",
      "Epoch 18/40\n",
      "60000/60000 [==============================] - 16s - loss: 0.0943 - acc: 0.9660 - val_loss: 0.2386 - val_acc: 0.9201\n",
      "Epoch 19/40\n",
      "60000/60000 [==============================] - 16s - loss: 0.0691 - acc: 0.9765 - val_loss: 0.2032 - val_acc: 0.9334\n",
      "Epoch 20/40\n",
      "60000/60000 [==============================] - 16s - loss: 0.0598 - acc: 0.9803 - val_loss: 0.2054 - val_acc: 0.9327\n",
      "Epoch 21/40\n",
      "60000/60000 [==============================] - 16s - loss: 0.0553 - acc: 0.9821 - val_loss: 0.2062 - val_acc: 0.9356\n",
      "Epoch 22/40\n",
      "60000/60000 [==============================] - 16s - loss: 0.0525 - acc: 0.9829 - val_loss: 0.2076 - val_acc: 0.9342\n",
      "Epoch 23/40\n",
      "60000/60000 [==============================] - 16s - loss: 0.0498 - acc: 0.9842 - val_loss: 0.2169 - val_acc: 0.9341\n",
      "Epoch 24/40\n",
      "60000/60000 [==============================] - 16s - loss: 0.0459 - acc: 0.9858 - val_loss: 0.2109 - val_acc: 0.9351\n",
      "Epoch 25/40\n",
      "60000/60000 [==============================] - 16s - loss: 0.0440 - acc: 0.9861 - val_loss: 0.2105 - val_acc: 0.9357\n",
      "Epoch 26/40\n",
      "60000/60000 [==============================] - 16s - loss: 0.0428 - acc: 0.9868 - val_loss: 0.2120 - val_acc: 0.9362\n",
      "Epoch 27/40\n",
      "60000/60000 [==============================] - 16s - loss: 0.0437 - acc: 0.9861 - val_loss: 0.2117 - val_acc: 0.9350\n",
      "Epoch 28/40\n",
      "60000/60000 [==============================] - 16s - loss: 0.0404 - acc: 0.9876 - val_loss: 0.2140 - val_acc: 0.9370\n",
      "Epoch 29/40\n",
      "60000/60000 [==============================] - 16s - loss: 0.0405 - acc: 0.9879 - val_loss: 0.2135 - val_acc: 0.9366\n",
      "Epoch 30/40\n",
      "60000/60000 [==============================] - 16s - loss: 0.0402 - acc: 0.9876 - val_loss: 0.2134 - val_acc: 0.9366\n",
      "Epoch 31/40\n",
      "60000/60000 [==============================] - 16s - loss: 0.0396 - acc: 0.9881 - val_loss: 0.2138 - val_acc: 0.9370\n",
      "Epoch 32/40\n",
      "60000/60000 [==============================] - 16s - loss: 0.0401 - acc: 0.9877 - val_loss: 0.2135 - val_acc: 0.9367\n",
      "Epoch 33/40\n",
      "60000/60000 [==============================] - 16s - loss: 0.0402 - acc: 0.9877 - val_loss: 0.2134 - val_acc: 0.9366\n",
      "Epoch 34/40\n",
      "60000/60000 [==============================] - 15s - loss: 0.0391 - acc: 0.9882 - val_loss: 0.2135 - val_acc: 0.9363\n",
      "Epoch 35/40\n",
      "60000/60000 [==============================] - 16s - loss: 0.0380 - acc: 0.9888 - val_loss: 0.2140 - val_acc: 0.9363\n",
      "Epoch 36/40\n",
      "60000/60000 [==============================] - 16s - loss: 0.0396 - acc: 0.9880 - val_loss: 0.2146 - val_acc: 0.9369\n",
      "Epoch 37/40\n",
      "60000/60000 [==============================] - 16s - loss: 0.0391 - acc: 0.9875 - val_loss: 0.2140 - val_acc: 0.9367\n",
      "Epoch 38/40\n",
      "60000/60000 [==============================] - 16s - loss: 0.0386 - acc: 0.9886 - val_loss: 0.2139 - val_acc: 0.9373\n",
      "Epoch 39/40\n",
      "60000/60000 [==============================] - 16s - loss: 0.0381 - acc: 0.9886 - val_loss: 0.2150 - val_acc: 0.9372\n",
      "Epoch 40/40\n",
      "60000/60000 [==============================] - 16s - loss: 0.0374 - acc: 0.9886 - val_loss: 0.2154 - val_acc: 0.9372\n",
      "Test loss: 0.215444689893\n",
      "Test accuracy: 0.9372\n"
     ]
    }
   ],
   "source": [
    "hist1=model.fit(x_train, y_train,\n",
    "          batch_size=batch_size,\n",
    "          epochs=epochs,\n",
    "          verbose=1,\n",
    "          validation_data=(x_test, y_test), callbacks=[reduce_lr])\n",
    "score = model.evaluate(x_test, y_test, verbose=0)\n",
    "print('Test loss:', score[0])\n",
    "print('Test accuracy:', score[1])"
   ]
  },
  {
   "cell_type": "code",
   "execution_count": null,
   "metadata": {
    "collapsed": true
   },
   "outputs": [],
   "source": []
  },
  {
   "cell_type": "code",
   "execution_count": null,
   "metadata": {
    "collapsed": true
   },
   "outputs": [],
   "source": []
  },
  {
   "cell_type": "markdown",
   "metadata": {},
   "source": [
    "# 3. Adam w/ weight decay (3e-5)"
   ]
  },
  {
   "cell_type": "code",
   "execution_count": 41,
   "metadata": {
    "collapsed": true
   },
   "outputs": [],
   "source": [
    "# input image dimensions\n",
    "img_rows, img_cols = 28, 28\n",
    "\n",
    "model = Sequential()\n",
    "model.add(Conv2D(32, kernel_size=(3, 3), kernel_regularizer=regularizers.l2(3e-5), kernel_initializer='he_normal', input_shape=input_shape))\n",
    "model.add(BatchNormalization())\n",
    "model.add(Activation('relu'))\n",
    "model.add(Conv2D(64, (3, 3), kernel_regularizer=regularizers.l2(3e-5), kernel_initializer='he_normal'))\n",
    "model.add(BatchNormalization())\n",
    "model.add(Activation('relu'))\n",
    "model.add(MaxPooling2D(pool_size=(2, 2)))\n",
    "model.add(Dropout(0.25))\n",
    "model.add(Flatten())\n",
    "model.add(Dense(128, kernel_regularizer=regularizers.l2(3e-5), kernel_initializer='he_normal'))\n",
    "model.add(BatchNormalization())\n",
    "model.add(Activation('relu'))\n",
    "model.add(Dropout(0.5))\n",
    "model.add(Dense(num_classes, activation='softmax'))\n",
    "\n",
    "model.compile(loss=keras.losses.categorical_crossentropy,\n",
    "              optimizer=keras.optimizers.Adam(),\n",
    "              metrics=['accuracy'])\n"
   ]
  },
  {
   "cell_type": "code",
   "execution_count": 42,
   "metadata": {
    "scrolled": true
   },
   "outputs": [
    {
     "name": "stdout",
     "output_type": "stream",
     "text": [
      "Train on 60000 samples, validate on 10000 samples\n",
      "Epoch 1/40\n",
      "60000/60000 [==============================] - 17s - loss: 0.4451 - acc: 0.8472 - val_loss: 0.3311 - val_acc: 0.8837\n",
      "Epoch 2/40\n",
      "60000/60000 [==============================] - 16s - loss: 0.3087 - acc: 0.8977 - val_loss: 0.2870 - val_acc: 0.9042\n",
      "Epoch 3/40\n",
      "60000/60000 [==============================] - 16s - loss: 0.2770 - acc: 0.9107 - val_loss: 0.2968 - val_acc: 0.9010 -  - ETA: 1s - l - ETA: 0s - loss: 0.2764 - acc: 0\n",
      "Epoch 4/40\n",
      "60000/60000 [==============================] - 16s - loss: 0.2586 - acc: 0.9192 - val_loss: 0.2730 - val_acc: 0.9133\n",
      "Epoch 5/40\n",
      "60000/60000 [==============================] - 16s - loss: 0.2425 - acc: 0.9269 - val_loss: 0.2785 - val_acc: 0.9161\n",
      "Epoch 6/40\n",
      "60000/60000 [==============================] - 16s - loss: 0.2349 - acc: 0.9326 - val_loss: 0.2774 - val_acc: 0.9177- ETA: 2s - loss: 0.2337 - acc: 0.932\n",
      "Epoch 7/40\n",
      "60000/60000 [==============================] - 16s - loss: 0.2247 - acc: 0.9385 - val_loss: 0.2829 - val_acc: 0.9211\n",
      "Epoch 8/40\n",
      "60000/60000 [==============================] - 16s - loss: 0.2175 - acc: 0.9432 - val_loss: 0.2854 - val_acc: 0.9239 ETA: 6s - loss: 0.2129 \n",
      "Epoch 9/40\n",
      "60000/60000 [==============================] - 16s - loss: 0.2144 - acc: 0.9462 - val_loss: 0.2958 - val_acc: 0.9217 ETA: 11s  - ETA: 2s - loss - ETA: 1s - loss: 0.2\n",
      "Epoch 10/40\n",
      "60000/60000 [==============================] - 16s - loss: 0.2098 - acc: 0.9492 - val_loss: 0.2969 - val_acc: 0.9250\n",
      "Epoch 11/40\n",
      "60000/60000 [==============================] - 16s - loss: 0.1806 - acc: 0.9619 - val_loss: 0.2799 - val_acc: 0.9305ss: 0.1805 \n",
      "Epoch 12/40\n",
      "60000/60000 [==============================] - 16s - loss: 0.1688 - acc: 0.9650 - val_loss: 0.2738 - val_acc: 0.9323\n",
      "Epoch 13/40\n",
      "60000/60000 [==============================] - 16s - loss: 0.1580 - acc: 0.9690 - val_loss: 0.2762 - val_acc: 0.9321- acc: 0. - ETA: 1s - loss\n",
      "Epoch 14/40\n",
      "60000/60000 [==============================] - 16s - loss: 0.1527 - acc: 0.9705 - val_loss: 0.2761 - val_acc: 0.9334\n",
      "Epoch 15/40\n",
      "60000/60000 [==============================] - 16s - loss: 0.1463 - acc: 0.9726 - val_loss: 0.2748 - val_acc: 0.9338\n",
      "Epoch 16/40\n",
      "60000/60000 [==============================] - 16s - loss: 0.1375 - acc: 0.9762 - val_loss: 0.2737 - val_acc: 0.9345\n",
      "Epoch 17/40\n",
      "60000/60000 [==============================] - 16s - loss: 0.1362 - acc: 0.9768 - val_loss: 0.2739 - val_acc: 0.9342 loss: 0.1344 - - ETA: 1s\n",
      "Epoch 18/40\n",
      "60000/60000 [==============================] - 16s - loss: 0.1345 - acc: 0.9766 - val_loss: 0.2731 - val_acc: 0.9354 7s - loss: 0.1339 - ETA: 3s -  - ETA: 2s - loss: 0.1349 - acc: 0.976 - ETA: 2s - loss: 0.1349 - acc - ETA: 1s - loss: 0. - ETA: 0s - loss: 0.1346 - acc: \n",
      "Epoch 19/40\n",
      "60000/60000 [==============================] - 16s - loss: 0.1304 - acc: 0.9782 - val_loss: 0.2749 - val_acc: 0.9349 ETA: 6s - loss: 0.1294 -  - ETA: 5s - loss: 0.1297 - - ETA:\n",
      "Epoch 20/40\n",
      "60000/60000 [==============================] - 16s - loss: 0.1315 - acc: 0.9774 - val_loss: 0.2754 - val_acc: 0.9352.977 - ETA: 1s - loss: 0.\n",
      "Epoch 21/40\n",
      "60000/60000 [==============================] - 16s - loss: 0.1278 - acc: 0.9792 - val_loss: 0.2743 - val_acc: 0.9350\n",
      "Epoch 22/40\n",
      "60000/60000 [==============================] - 16s - loss: 0.1279 - acc: 0.9784 - val_loss: 0.2745 - val_acc: 0.9356\n",
      "Epoch 23/40\n",
      "60000/60000 [==============================] - 16s - loss: 0.1268 - acc: 0.9791 - val_loss: 0.2752 - val_acc: 0.9353\n",
      "Epoch 24/40\n",
      "60000/60000 [==============================] - 16s - loss: 0.1279 - acc: 0.9786 - val_loss: 0.2750 - val_acc: 0.9355\n",
      "Epoch 25/40\n",
      "60000/60000 [==============================] - 16s - loss: 0.1276 - acc: 0.9787 - val_loss: 0.2755 - val_acc: 0.9348\n",
      "Epoch 26/40\n",
      "60000/60000 [==============================] - 16s - loss: 0.1261 - acc: 0.9795 - val_loss: 0.2746 - val_acc: 0.9346\n",
      "Epoch 27/40\n",
      "60000/60000 [==============================] - 16s - loss: 0.1253 - acc: 0.9800 - val_loss: 0.2746 - val_acc: 0.9360\n",
      "Epoch 28/40\n",
      "60000/60000 [==============================] - 16s - loss: 0.1257 - acc: 0.9792 - val_loss: 0.2755 - val_acc: 0.9348\n",
      "Epoch 29/40\n",
      "60000/60000 [==============================] - 16s - loss: 0.1253 - acc: 0.9791 - val_loss: 0.2757 - val_acc: 0.9351\n",
      "Epoch 30/40\n",
      "60000/60000 [==============================] - 16s - loss: 0.1242 - acc: 0.9800 - val_loss: 0.2755 - val_acc: 0.9352\n",
      "Epoch 31/40\n",
      "60000/60000 [==============================] - 16s - loss: 0.1244 - acc: 0.9797 - val_loss: 0.2758 - val_acc: 0.9353\n",
      "Epoch 32/40\n",
      "60000/60000 [==============================] - 16s - loss: 0.1244 - acc: 0.9794 - val_loss: 0.2757 - val_acc: 0.9356.1244 - acc: 0.979\n",
      "Epoch 33/40\n",
      "60000/60000 [==============================] - 16s - loss: 0.1248 - acc: 0.9794 - val_loss: 0.2757 - val_acc: 0.9355\n",
      "Epoch 34/40\n",
      "60000/60000 [==============================] - 16s - loss: 0.1217 - acc: 0.9805 - val_loss: 0.2759 - val_acc: 0.9353\n",
      "Epoch 35/40\n",
      "60000/60000 [==============================] - 16s - loss: 0.1233 - acc: 0.9799 - val_loss: 0.2759 - val_acc: 0.9353 0.1241 - acc: 0. - ETA: 6s - \n",
      "Epoch 36/40\n",
      "60000/60000 [==============================] - 16s - loss: 0.1219 - acc: 0.9803 - val_loss: 0.2754 - val_acc: 0.9352 - ETA: 4s - loss: 0.1220 - ac - ETA: 3s - loss: 0.1 - ETA: 2s - loss: 0.12 - ETA: 1s - loss: 0. - ETA: 0s - loss: 0.1222 - acc: \n",
      "Epoch 37/40\n",
      "60000/60000 [==============================] - 16s - loss: 0.1213 - acc: 0.9805 - val_loss: 0.2760 - val_acc: 0.93511208 - acc: \n",
      "Epoch 38/40\n",
      "60000/60000 [==============================] - 16s - loss: 0.1207 - acc: 0.9811 - val_loss: 0.2764 - val_acc: 0.9352 - ETA: 7s - loss: 0.1207  - ETA: 6s - loss: 0.1\n",
      "Epoch 39/40\n",
      "60000/60000 [==============================] - 16s - loss: 0.1212 - acc: 0.9805 - val_loss: 0.2762 - val_acc: 0.9352\n",
      "Epoch 40/40\n",
      "60000/60000 [==============================] - 16s - loss: 0.1222 - acc: 0.9801 - val_loss: 0.2761 - val_acc: 0.9352- ETA: 0s - loss: 0.1224 - acc: 0\n",
      "Test loss: 0.276113773727\n",
      "Test accuracy: 0.9352\n"
     ]
    }
   ],
   "source": [
    "hist2=model.fit(x_train, y_train,\n",
    "          batch_size=batch_size,\n",
    "          epochs=epochs,\n",
    "          verbose=1,\n",
    "          validation_data=(x_test, y_test), callbacks=[reduce_lr])\n",
    "score = model.evaluate(x_test, y_test, verbose=0)\n",
    "print('Test loss:', score[0])\n",
    "print('Test accuracy:', score[1])"
   ]
  },
  {
   "cell_type": "code",
   "execution_count": null,
   "metadata": {
    "collapsed": true
   },
   "outputs": [],
   "source": []
  },
  {
   "cell_type": "code",
   "execution_count": null,
   "metadata": {
    "collapsed": true
   },
   "outputs": [],
   "source": []
  },
  {
   "cell_type": "code",
   "execution_count": null,
   "metadata": {
    "collapsed": true
   },
   "outputs": [],
   "source": []
  },
  {
   "cell_type": "code",
   "execution_count": 45,
   "metadata": {
    "collapsed": true
   },
   "outputs": [],
   "source": [
    "import matplotlib.pyplot as plt\n",
    "%matplotlib inline"
   ]
  },
  {
   "cell_type": "code",
   "execution_count": 46,
   "metadata": {
    "collapsed": true
   },
   "outputs": [],
   "source": [
    "def plot_history(hists, attribute='val_loss', axis=(-1,41,0.85,0.94), loc='lower right'):\n",
    "    ylabel = {'oss': 'loss', 'acc': 'accuracy'}\n",
    "    title = {'val_loss': 'valid. loss', 'loss': 'trn. loss', 'val_acc': 'valid. accuracy', 'acc': 'trn._ accuracy'}\n",
    "    num_hists = len(hists)\n",
    "    \n",
    "    plt.figure(figsize=(8, 5))  \n",
    "    plt.axis(axis)\n",
    "    for i in range(num_hists):\n",
    "        plt.plot(hists[i].history[attribute])\n",
    "    plt.title(title[attribute])  \n",
    "    plt.ylabel(ylabel[attribute[-3:]])  \n",
    "    plt.xlabel('epoch')  \n",
    "    plt.legend(['PowerSign(weight_dacay=0.03)', 'AdamW(0.1)', 'Adam w/ L2=3e-5'], loc=loc)  \n",
    "\n",
    "    plt.show()"
   ]
  },
  {
   "cell_type": "code",
   "execution_count": 48,
   "metadata": {},
   "outputs": [],
   "source": [
    "hists = [hist0, hist1, hist2]"
   ]
  },
  {
   "cell_type": "code",
   "execution_count": 49,
   "metadata": {},
   "outputs": [
    {
     "data": {
      "image/png": "[encoded data removed]",
      "text/plain": [
       "<matplotlib.figure.Figure at 0x7f76aa027f28>"
      ]
     },
     "metadata": {},
     "output_type": "display_data"
    }
   ],
   "source": [
    "plot_history(hists, attribute='val_acc', loc='lower right')"
   ]
  },
  {
   "cell_type": "code",
   "execution_count": 50,
   "metadata": {},
   "outputs": [
    {
     "data": {
      "image/png": "[encoded data removed]",
      "text/plain": [
       "<matplotlib.figure.Figure at 0x7f76a9d1e0f0>"
      ]
     },
     "metadata": {},
     "output_type": "display_data"
    }
   ],
   "source": [
    "plot_history(hists, attribute='acc', axis=(-1,41,0.9,0.99), loc='lower right')"
   ]
  },
  {
   "cell_type": "code",
   "execution_count": 54,
   "metadata": {},
   "outputs": [
    {
     "data": {
      "image/png": "[encoded data removed]",
      "text/plain": [
       "<matplotlib.figure.Figure at 0x7f76a9a7d518>"
      ]
     },
     "metadata": {},
     "output_type": "display_data"
    }
   ],
   "source": [
    "plot_history(hists, attribute='val_loss', axis=(-1,41,0.18,0.35), loc='upper right')"
   ]
  },
  {
   "cell_type": "code",
   "execution_count": 55,
   "metadata": {},
   "outputs": [
    {
     "data": {
      "image/png": "[encoded data removed]",
      "text/plain": [
       "<matplotlib.figure.Figure at 0x7f76a9a77e48>"
      ]
     },
     "metadata": {},
     "output_type": "display_data"
    }
   ],
   "source": [
    "plot_history(hists, attribute='loss', axis=(-1,41,0.00,0.5), loc='upper right')"
   ]
  },
  {
   "cell_type": "code",
   "execution_count": null,
   "metadata": {
    "collapsed": true
   },
   "outputs": [],
   "source": []
  },
  {
   "cell_type": "code",
   "execution_count": null,
   "metadata": {
    "collapsed": true
   },
   "outputs": [],
   "source": []
  },
  {
   "cell_type": "code",
   "execution_count": null,
   "metadata": {
    "collapsed": true
   },
   "outputs": [],
   "source": []
  },
  {
   "cell_type": "code",
   "execution_count": null,
   "metadata": {
    "collapsed": true
   },
   "outputs": [],
   "source": []
  },
  {
   "cell_type": "code",
   "execution_count": null,
   "metadata": {
    "collapsed": true
   },
   "outputs": [],
   "source": []
  },
  {
   "cell_type": "code",
   "execution_count": null,
   "metadata": {
    "collapsed": true
   },
   "outputs": [],
   "source": []
  }
 ],
 "metadata": {
  "kernelspec": {
   "display_name": "Neptune",
   "language": "",
   "name": "neptune-kernel"
  },
  "language_info": {
   "codemirror_mode": {
    "name": "ipython",
    "version": 3
   },
   "file_extension": ".py",
   "mimetype": "text/x-python",
   "name": "python",
   "nbconvert_exporter": "python",
   "pygments_lexer": "ipython3",
   "version": "3.5.2"
  }
 },
 "nbformat": 4,
 "nbformat_minor": 2
}
